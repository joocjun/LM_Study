{
 "cells": [
  {
   "cell_type": "markdown",
   "metadata": {},
   "source": [
    "# Fine Tuning\n",
    "<br>\n",
    "We "
   ]
  },
  {
   "cell_type": "code",
   "execution_count": 8,
   "metadata": {},
   "outputs": [],
   "source": [
    "import torch\n",
    "import torch.nn as nn\n",
    "import transformers\n",
    "from transformers import BertModel\n",
    "from transformers import BertTokenizer"
   ]
  },
  {
   "cell_type": "code",
   "execution_count": 7,
   "metadata": {},
   "outputs": [],
   "source": [
    "class BertForSequenceClassification(nn.Module):\n",
    "    def __init__(self, num_labels=2):\n",
    "        super(BertForSequenceClassification,self).__init__()\n",
    "        \n",
    "        self.num_labels = num_labels\n",
    "        self.bert = BertModel.from_pretrained('bert-base-uncased')\n",
    "        self.dropout = nn.Dropout(config.hidden_dropout_prob)\n",
    "        self.classifier = nn.Linear(config.hidden_size, num_labels)\n",
    "        nn.init.xavier_normal_(self.classifier.weight)\n",
    "        \n",
    "    def forward(self, input_ids, token_type_ids=None, attention_mask=None, labels=None):\n",
    "        _, pooled_output = self.bert(input_ids, token_type_ids,attention_mask,output_all_encoded_layers=False)\n",
    "        pooled_output = self.dropout(pooled_output)\n",
    "        logits = self.classifier(pooled_output)\n",
    "        \n",
    "        return logits"
   ]
  },
  {
   "cell_type": "code",
   "execution_count": 13,
   "metadata": {},
   "outputs": [
    {
     "data": {
      "text/plain": [
       "[2238,\n",
       " 2756,\n",
       " 1010,\n",
       " 2786,\n",
       " 1011,\n",
       " 1011,\n",
       " 1045,\n",
       " 2572,\n",
       " 23781,\n",
       " 2007,\n",
       " 1037,\n",
       " 2047,\n",
       " 8312,\n",
       " 1997,\n",
       " 1996,\n",
       " 3248,\n",
       " 1010,\n",
       " 2029,\n",
       " 1045,\n",
       " 3246,\n",
       " 2097,\n",
       " 6149,\n",
       " 2070,\n",
       " 1997,\n",
       " 1996,\n",
       " 3471,\n",
       " 2007,\n",
       " 1996,\n",
       " 2783,\n",
       " 4289,\n",
       " 3436,\n",
       " 1012,\n",
       " 2006,\n",
       " 1037,\n",
       " 3979,\n",
       " 3978,\n",
       " 1010,\n",
       " 1045,\n",
       " 2031,\n",
       " 2872,\n",
       " 1037,\n",
       " 2047,\n",
       " 2544,\n",
       " 1997,\n",
       " 25182,\n",
       " 2006,\n",
       " 1996,\n",
       " 8241,\n",
       " 1012]"
      ]
     },
     "execution_count": 13,
     "metadata": {},
     "output_type": "execute_result"
    }
   ],
   "source": [
    "tokenizer = BertTokenizer.from_pretrained('bert-base-uncased')\n",
    "\n",
    "sometext = \"June 29, 1995 -- I am experimenting with a new presentation of the plays, which I hope will correct some of the problems with the current formatting. On a trial basis, I have placed a new version of Macbeth on the server.\"\n",
    "tokenized_text = tokenizer.tokenize(sometext)\n",
    "tokenizer.convert_tokens_to_ids(tokenized_text)"
   ]
  },
  {
   "cell_type": "code",
   "execution_count": null,
   "metadata": {},
   "outputs": [],
   "source": [
    "max_seq_length = 256\n",
    "\n",
    "class text_dataset(Dataset):\n",
    "    def __init__(self,x_y_list):\n",
    "        self.x_y_list = x_y_list\n",
    "        \n",
    "    def __getitem__(self, index):\n",
    "        tokenized_review = tokenizer.tokenize(self.x_y_list[0][index])\n",
    "        "
   ]
  },
  {
   "cell_type": "code",
   "execution_count": null,
   "metadata": {},
   "outputs": [],
   "source": []
  },
  {
   "cell_type": "code",
   "execution_count": null,
   "metadata": {},
   "outputs": [],
   "source": []
  },
  {
   "cell_type": "code",
   "execution_count": null,
   "metadata": {},
   "outputs": [],
   "source": []
  },
  {
   "cell_type": "code",
   "execution_count": null,
   "metadata": {},
   "outputs": [],
   "source": []
  },
  {
   "cell_type": "code",
   "execution_count": null,
   "metadata": {},
   "outputs": [],
   "source": []
  }
 ],
 "metadata": {
  "kernelspec": {
   "display_name": "Python 3",
   "language": "python",
   "name": "python3"
  },
  "language_info": {
   "codemirror_mode": {
    "name": "ipython",
    "version": 3
   },
   "file_extension": ".py",
   "mimetype": "text/x-python",
   "name": "python",
   "nbconvert_exporter": "python",
   "pygments_lexer": "ipython3",
   "version": "3.8.5"
  }
 },
 "nbformat": 4,
 "nbformat_minor": 4
}
