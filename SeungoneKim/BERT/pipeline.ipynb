{
 "cells": [
  {
   "cell_type": "code",
   "execution_count": 1,
   "metadata": {},
   "outputs": [],
   "source": [
    "import os\n",
    "import sys\n",
    "import json\n",
    "import time\n",
    "import math\n",
    "import random\n",
    "import datetime\n",
    "from pathlib import Path\n",
    "import wget\n",
    "\n",
    "import argparse\n",
    "import dill as pickle\n",
    "from tqdm import tqdm\n",
    "import urllib\n",
    "\n",
    "import numpy as np\n",
    "import pandas as pd\n",
    "import sklearn\n",
    "import matplotlib.pyplot as plt\n",
    "\n",
    "import torch\n",
    "import torch.nn as nn\n",
    "import torch.optim as optim\n",
    "from torch.autograd import grad\n",
    "from torch import Tensor\n",
    "from torch.autograd import Variable\n",
    "#from torchtext.data import Fields, Dataset, BucketIterator\n",
    "#from torchtext.datasets import TranslationDataset\n",
    "#import torchtext\n",
    "\n",
    "import transformers\n",
    "from transformers import BertModel\n",
    "from transformers import BertConfig\n",
    "from transformers import BertTokenizer\n",
    "\n",
    "from PIL import Image\n",
    "import torchvision\n",
    "import torchvision.datasets as datasets\n",
    "import torchvision.transforms as transforms"
   ]
  },
  {
   "cell_type": "code",
   "execution_count": 2,
   "metadata": {},
   "outputs": [
    {
     "name": "stdout",
     "output_type": "stream",
     "text": [
      "Fri May 14 21:16:27 2021       \n",
      "+-----------------------------------------------------------------------------+\n",
      "| NVIDIA-SMI 456.71       Driver Version: 456.71       CUDA Version: 11.1     |\n",
      "|-------------------------------+----------------------+----------------------+\n",
      "| GPU  Name            TCC/WDDM | Bus-Id        Disp.A | Volatile Uncorr. ECC |\n",
      "| Fan  Temp  Perf  Pwr:Usage/Cap|         Memory-Usage | GPU-Util  Compute M. |\n",
      "|===============================+======================+======================|\n",
      "|   0  GeForce RTX 208... WDDM  | 00000000:01:00.0  On |                  N/A |\n",
      "|  0%   36C    P8    12W / 250W |    610MiB / 11264MiB |      0%      Default |\n",
      "+-------------------------------+----------------------+----------------------+\n",
      "                                                                               \n",
      "+-----------------------------------------------------------------------------+\n",
      "| Processes:                                                                  |\n",
      "|  GPU   GI   CI        PID   Type   Process name                  GPU Memory |\n",
      "|        ID   ID                                                   Usage      |\n",
      "|=============================================================================|\n",
      "|    0   N/A  N/A      1060    C+G   Insufficient Permissions        N/A      |\n",
      "|    0   N/A  N/A      3192    C+G   ...obeNotificationClient.exe    N/A      |\n",
      "|    0   N/A  N/A      9084    C+G   C:\\Windows\\explorer.exe         N/A      |\n",
      "|    0   N/A  N/A      9120    C+G   ...TeamViewer\\TeamViewer.exe    N/A      |\n",
      "|    0   N/A  N/A     10308    C+G   ...y\\ShellExperienceHost.exe    N/A      |\n",
      "|    0   N/A  N/A     11936    C+G   ...bbwe\\Microsoft.Photos.exe    N/A      |\n",
      "|    0   N/A  N/A     12024    C+G   ...artMenuExperienceHost.exe    N/A      |\n",
      "|    0   N/A  N/A     12392    C+G   ...batNotificationClient.exe    N/A      |\n",
      "|    0   N/A  N/A     12688    C+G   ...perience\\NVIDIA Share.exe    N/A      |\n",
      "|    0   N/A  N/A     12912    C+G   ...nputApp\\TextInputHost.exe    N/A      |\n",
      "|    0   N/A  N/A     13492    C+G   ...tion\\2.9.117.22\\whale.exe    N/A      |\n",
      "|    0   N/A  N/A     13656    C+G   ...5n1h2txyewy\\SearchApp.exe    N/A      |\n",
      "|    0   N/A  N/A     14028    C+G   ...zf8qxf38zg5c\\SkypeApp.exe    N/A      |\n",
      "|    0   N/A  N/A     14060    C+G   ...ty\\Common7\\IDE\\devenv.exe    N/A      |\n",
      "|    0   N/A  N/A     14844    C+G   ...e\\Current\\LogiOverlay.exe    N/A      |\n",
      "|    0   N/A  N/A     21308    C+G   ...b3d8bbwe\\WinStore.App.exe    N/A      |\n",
      "+-----------------------------------------------------------------------------+\n"
     ]
    }
   ],
   "source": [
    "!nvidia-smi"
   ]
  },
  {
   "cell_type": "code",
   "execution_count": 3,
   "metadata": {},
   "outputs": [
    {
     "data": {
      "text/plain": [
       "False"
      ]
     },
     "execution_count": 3,
     "metadata": {},
     "output_type": "execute_result"
    }
   ],
   "source": [
    "import torch\n",
    "torch.cuda.is_available()"
   ]
  },
  {
   "cell_type": "code",
   "execution_count": 4,
   "metadata": {},
   "outputs": [
    {
     "name": "stdout",
     "output_type": "stream",
     "text": [
      "1.8.1+cpu\n",
      "\n",
      "4.5.1\n"
     ]
    }
   ],
   "source": [
    "print(torch.__version__)\n",
    "print()\n",
    "print(transformers.__version__)"
   ]
  },
  {
   "cell_type": "code",
   "execution_count": 5,
   "metadata": {},
   "outputs": [
    {
     "name": "stdout",
     "output_type": "stream",
     "text": [
      "using cached model\n"
     ]
    },
    {
     "data": {
      "text/plain": [
       "['▁한국', '어', '▁모델', '을', '▁공유', '합니다', '.']"
      ]
     },
     "execution_count": 5,
     "metadata": {},
     "output_type": "execute_result"
    }
   ],
   "source": [
    "#import sentencepiece as spm\n",
    "from gluonnlp.data import SentencepieceTokenizer\n",
    "from KoBERT.kobert.utils import get_tokenizer\n",
    "tok_path = get_tokenizer()\n",
    "sp  =  SentencepieceTokenizer(tok_path)\n",
    "sp('한국어 모델을 공유합니다.')"
   ]
  },
  {
   "cell_type": "code",
   "execution_count": 6,
   "metadata": {},
   "outputs": [
    {
     "data": {
      "application/vnd.jupyter.widget-view+json": {
       "model_id": "b9c8338052864b2ca04a6b888242631b",
       "version_major": 2,
       "version_minor": 0
      },
      "text/plain": [
       "HBox(children=(FloatProgress(value=0.0, description='Downloading', max=213450.0, style=ProgressStyle(descripti…"
      ]
     },
     "metadata": {},
     "output_type": "display_data"
    },
    {
     "name": "stdout",
     "output_type": "stream",
     "text": [
      "\n"
     ]
    },
    {
     "data": {
      "application/vnd.jupyter.widget-view+json": {
       "model_id": "119d1050c3eb4cbab7714480892c555f",
       "version_major": 2,
       "version_minor": 0
      },
      "text/plain": [
       "HBox(children=(FloatProgress(value=0.0, description='Downloading', max=29.0, style=ProgressStyle(description_w…"
      ]
     },
     "metadata": {},
     "output_type": "display_data"
    },
    {
     "name": "stdout",
     "output_type": "stream",
     "text": [
      "\n"
     ]
    },
    {
     "data": {
      "application/vnd.jupyter.widget-view+json": {
       "model_id": "9dd94843dcfa41008506fe95911a5acb",
       "version_major": 2,
       "version_minor": 0
      },
      "text/plain": [
       "HBox(children=(FloatProgress(value=0.0, description='Downloading', max=435797.0, style=ProgressStyle(descripti…"
      ]
     },
     "metadata": {},
     "output_type": "display_data"
    },
    {
     "name": "stdout",
     "output_type": "stream",
     "text": [
      "\n"
     ]
    }
   ],
   "source": [
    "from transformers import BertConfig\n",
    "from transformers import BertTokenizer\n",
    "from transformers import BertForMaskedLM\n",
    "\n",
    "config = BertConfig(\n",
    "    config_size= 52000,\n",
    "    max_position_embeddings=514,\n",
    "    num_attention_heads= 12,\n",
    "    num_hidden_layers=6,\n",
    "    type_vocab_size=1\n",
    ")\n",
    "\n",
    "tokenizer = BertTokenizer.from_pretrained(\"bert-base-cased\",max_len=512)\n",
    "\n",
    "model = BertForMaskedLM(config=config)"
   ]
  },
  {
   "cell_type": "code",
   "execution_count": 7,
   "metadata": {},
   "outputs": [
    {
     "data": {
      "text/plain": [
       "66987834"
      ]
     },
     "execution_count": 7,
     "metadata": {},
     "output_type": "execute_result"
    }
   ],
   "source": [
    "model.num_parameters()"
   ]
  },
  {
   "cell_type": "code",
   "execution_count": 8,
   "metadata": {
    "scrolled": true
   },
   "outputs": [
    {
     "name": "stderr",
     "output_type": "stream",
     "text": [
      "C:\\Users\\SCLAB\\.conda\\envs\\cuda\\lib\\site-packages\\transformers\\data\\datasets\\language_modeling.py:120: FutureWarning: This dataset will be removed from the library soon, preprocessing should be handled with the 🤗 Datasets library. You can have a look at this example script for pointers: https://github.com/huggingface/transformers/blob/master/examples/language-modeling/run_mlm.py\n",
      "  warnings.warn(\n"
     ]
    },
    {
     "data": {
      "text/plain": [
       "\"\\nfrom datasets import load_dataset\\ndataset = load_dataset('text',data_files={'train':'./datasets/WikiQACorpus/WikiQA-train.txt',\\n                      'test':'./datasets/WikiQACorpus/WikiQA-test.txt'})\\n\\nfrom datasets import load_dataset\\ndataset = load_dataset('wikicorpus','raw_en')\\n\""
      ]
     },
     "execution_count": 8,
     "metadata": {},
     "output_type": "execute_result"
    }
   ],
   "source": [
    "\n",
    "from transformers import LineByLineTextDataset\n",
    "\n",
    "dataset = LineByLineTextDataset(\n",
    "    tokenizer = tokenizer,\n",
    "    file_path = \"./datasets/txtfiles/beatles.txt\",\n",
    "    block_size= 128\n",
    ")\n",
    "\"\"\"\n",
    "from datasets import load_dataset\n",
    "dataset = load_dataset('text',data_files={'train':'./datasets/WikiQACorpus/WikiQA-train.txt',\n",
    "                      'test':'./datasets/WikiQACorpus/WikiQA-test.txt'})\n",
    "\n",
    "from datasets import load_dataset\n",
    "dataset = load_dataset('wikicorpus','raw_en')\n",
    "\"\"\""
   ]
  },
  {
   "cell_type": "code",
   "execution_count": 9,
   "metadata": {
    "scrolled": true
   },
   "outputs": [
    {
     "name": "stdout",
     "output_type": "stream",
     "text": [
      "1846\n"
     ]
    }
   ],
   "source": [
    "print(len(dataset))"
   ]
  },
  {
   "cell_type": "code",
   "execution_count": 10,
   "metadata": {},
   "outputs": [],
   "source": [
    "from transformers import DataCollatorForLanguageModeling\n",
    "\n",
    "data_collator = DataCollatorForLanguageModeling(\n",
    "    tokenizer= tokenizer, mlm=True, mlm_probability=0.15\n",
    ")"
   ]
  },
  {
   "cell_type": "code",
   "execution_count": 11,
   "metadata": {},
   "outputs": [
    {
     "name": "stdout",
     "output_type": "stream",
     "text": [
      "DataCollatorForLanguageModeling(tokenizer=PreTrainedTokenizer(name_or_path='bert-base-cased', vocab_size=28996, model_max_len=512, is_fast=False, padding_side='right', special_tokens={'unk_token': '[UNK]', 'sep_token': '[SEP]', 'pad_token': '[PAD]', 'cls_token': '[CLS]', 'mask_token': '[MASK]'}), mlm=True, mlm_probability=0.15)\n"
     ]
    }
   ],
   "source": [
    "print(data_collator)"
   ]
  },
  {
   "cell_type": "code",
   "execution_count": 12,
   "metadata": {},
   "outputs": [],
   "source": [
    "from transformers import Trainer, TrainingArguments\n",
    "\n",
    "training_args = TrainingArguments(\n",
    "    output_dir = \"./BERT\",\n",
    "    overwrite_output_dir=True,\n",
    "    num_train_epochs=1,\n",
    "    per_device_train_batch_size= 4,\n",
    "    save_steps=10000,\n",
    "    save_total_limit=2,\n",
    "    prediction_loss_only=True\n",
    ")\n",
    "\n",
    "#model = model.to('cuda:0')\n",
    "trainer = Trainer(\n",
    "    model = model,\n",
    "    args=training_args,\n",
    "    data_collator=data_collator,\n",
    "    train_dataset=dataset\n",
    ")"
   ]
  },
  {
   "cell_type": "code",
   "execution_count": 13,
   "metadata": {},
   "outputs": [
    {
     "data": {
      "text/html": [
       "\n",
       "    <div>\n",
       "        <style>\n",
       "            /* Turns off some styling */\n",
       "            progress {\n",
       "                /* gets rid of default border in Firefox and Opera. */\n",
       "                border: none;\n",
       "                /* Needs to be in here for Safari polyfill so background images work as expected. */\n",
       "                background-size: auto;\n",
       "            }\n",
       "        </style>\n",
       "      \n",
       "      <progress value='462' max='462' style='width:300px; height:20px; vertical-align: middle;'></progress>\n",
       "      [462/462 05:15, Epoch 1/1]\n",
       "    </div>\n",
       "    <table border=\"1\" class=\"dataframe\">\n",
       "  <thead>\n",
       "    <tr style=\"text-align: left;\">\n",
       "      <th>Step</th>\n",
       "      <th>Training Loss</th>\n",
       "    </tr>\n",
       "  </thead>\n",
       "  <tbody>\n",
       "  </tbody>\n",
       "</table><p>"
      ],
      "text/plain": [
       "<IPython.core.display.HTML object>"
      ]
     },
     "metadata": {},
     "output_type": "display_data"
    },
    {
     "data": {
      "text/plain": [
       "TrainOutput(global_step=462, training_loss=6.100174808915043, metrics={'train_runtime': 316.0885, 'train_samples_per_second': 1.462, 'total_flos': 13383365379192.0, 'epoch': 1.0})"
      ]
     },
     "execution_count": 13,
     "metadata": {},
     "output_type": "execute_result"
    }
   ],
   "source": [
    "trainer.train()"
   ]
  },
  {
   "cell_type": "markdown",
   "metadata": {},
   "source": [
    "# smallBERTa Pretraining"
   ]
  },
  {
   "cell_type": "code",
   "execution_count": 44,
   "metadata": {},
   "outputs": [],
   "source": [
    "import pandas as pd\n",
    "\n",
    "curdir = os.getcwd()\n",
    "path1 = os.path.join(curdir,'datasets','twitter_samples','positive_tweets.json')\n",
    "path2 = os.path.join(curdir,'datasets','twitter_samples','negative_tweets.json')"
   ]
  },
  {
   "cell_type": "code",
   "execution_count": 52,
   "metadata": {},
   "outputs": [],
   "source": [
    "pos_df = pd.read_json(path1,lines=True)\n",
    "neg_df = pd.read_json(path2,lines=True)"
   ]
  },
  {
   "cell_type": "code",
   "execution_count": 53,
   "metadata": {},
   "outputs": [],
   "source": [
    "pos_df_text = pos_df['text']\n",
    "neg_df_text = neg_df['text']"
   ]
  },
  {
   "cell_type": "code",
   "execution_count": 54,
   "metadata": {},
   "outputs": [],
   "source": [
    "import regex as re\n",
    "\n",
    "def basicPreprocess(text):\n",
    "    try:\n",
    "        processed_text = text.lower()\n",
    "        processed_text = re.sub(r'\\W +',' ',processed_text)\n",
    "    except Exception as e:\n",
    "        print(\"Exception:\",e,\",on text:\",text)\n",
    "        return None\n",
    "    return processed_text"
   ]
  },
  {
   "cell_type": "code",
   "execution_count": 55,
   "metadata": {},
   "outputs": [
    {
     "data": {
      "text/plain": [
       "pandas.core.series.Series"
      ]
     },
     "execution_count": 55,
     "metadata": {},
     "output_type": "execute_result"
    }
   ],
   "source": [
    "type(pos_df_text)"
   ]
  },
  {
   "cell_type": "code",
   "execution_count": 56,
   "metadata": {},
   "outputs": [],
   "source": [
    "pos_df_text = pos_df_text.apply(basicPreprocess).dropna()\n",
    "neg_df_text = neg_df_text.apply(basicPreprocess).dropna()"
   ]
  },
  {
   "cell_type": "code",
   "execution_count": 58,
   "metadata": {},
   "outputs": [],
   "source": [
    "pos_df_text = pos_df_text.replace('\\n',\" \")\n",
    "neg_df_text = neg_df_text.replace('\\n',\" \")"
   ]
  },
  {
   "cell_type": "code",
   "execution_count": 69,
   "metadata": {},
   "outputs": [
    {
     "name": "stderr",
     "output_type": "stream",
     "text": [
      "  5%|▍         | 241/5000 [00:00<00:04, 1152.48it/s]"
     ]
    },
    {
     "name": "stdout",
     "output_type": "stream",
     "text": [
      "💅🏽  :))) haven't seen you in years 'cp949' codec can't encode character '\\U0001f485' in position 0: illegal multibyte sequence\n",
      "spiritual ritual festival (népal)\n",
      "beginning of line-up :)\n",
      "it is left for the line-up (y)\n",
      "see more at:.. http://t.co/qmnz62oeuc 'cp949' codec can't encode character '\\xe9' in position 28: illegal multibyte sequence\n",
      "@coffeebreak22 @laurenarren @drparkave @jwkanyuira1969 @dheracing @rhoachri @barbarabathurst @1cryingeye @willisteam : ☕☕ thank you rita! 'cp949' codec can't encode character '\\u2615' in position 119: illegal multibyte sequence\n"
     ]
    },
    {
     "name": "stderr",
     "output_type": "stream",
     "text": [
      " 10%|▉         | 486/5000 [00:00<00:03, 1184.50it/s]"
     ]
    },
    {
     "name": "stdout",
     "output_type": "stream",
     "text": [
      "@literalwt lmaooo same its so hot 😤 like louis : he's so hot !!!!!!!! 'cp949' codec can't encode character '\\U0001f624' in position 34: illegal multibyte sequence\n",
      "@messiholic_ lol 😄😄really i can't believe a beautiful girl like you are single :p 'cp949' codec can't encode character '\\U0001f604' in position 17: illegal multibyte sequence\n",
      "@jackgilinsky hiii jack : ily ✨✨✨ 'cp949' codec can't encode character '\\u2728' in position 30: illegal multibyte sequence\n",
      "@fwmkian happy birthday baby 💟 i miss you so much and love you so much :)) 'cp949' codec can't encode character '\\U0001f49f' in position 29: illegal multibyte sequence\n",
      "tykkäsin @youtube-videosta http://t.co/p5dakaodmx 200sub special!  15e paysafecard giveaway! : (lue desc!!!) 'cp949' codec can't encode character '\\xe4' in position 4: illegal multibyte sequence\n",
      "i have ariana grande selena gomez louis tomlinson rita liam payne \n",
      "caradelevingne 🌷i trade solo dm :) 'cp949' codec can't encode character '\\U0001f337' in position 83: illegal multibyte sequence\n",
      "i will fulfil all your fantasies :  http://t.co/bp1jroakrb 👈 http://t.co/jtsnmudpnf 'cp949' codec can't encode character '\\U0001f448' in position 59: illegal multibyte sequence\n"
     ]
    },
    {
     "name": "stderr",
     "output_type": "stream",
     "text": [
      " 15%|█▍        | 730/5000 [00:00<00:03, 1194.96it/s]"
     ]
    },
    {
     "name": "stdout",
     "output_type": "stream",
     "text": [
      "happy birthday to my momma bear love you so much ❤️ i redid this because i found the last picture from 8th grade : http://t.co/okxirapwxh 'cp949' codec can't encode character '\\u2764' in position 49: illegal multibyte sequence\n",
      "@royatv @fkarsheh @rahafs #مطعم_هاشم yummy :- \n",
      "a7la bdayt season :- mnwreeen :- :-) 'cp949' codec can't encode character '\\u0645' in position 27: illegal multibyte sequence\n",
      "the clash :) \"@prasetyoseven milano calling 👌\" 'cp949' codec can't encode character '\\U0001f44c' in position 44: illegal multibyte sequence\n",
      "@bravefrontiergl thanks 4 give certainty about d problem :)\n",
      "hope u all could solve faster👊\n",
      "at least now i know i dont have to hurry 4 totem 'cp949' codec can't encode character '\\U0001f44a' in position 90: illegal multibyte sequence\n",
      "a very productive day so far : happy days...! : : but my head is spinning with things those voices keep calling..!! lol 󾌴 'cp949' codec can't encode character '\\U000fe334' in position 120: illegal multibyte sequence\n",
      "@komal_indian @socialitepanda #ब doesn't matter jungle can accommodate both :-) 'cp949' codec can't encode character '\\u092c' in position 31: illegal multibyte sequence\n",
      "@little_nells happy birthday :)🎉🎈 'cp949' codec can't encode character '\\U0001f389' in position 31: illegal multibyte sequence\n",
      "@calllmejay_ sounds good to me : i'll see you saturday ✨ 'cp949' codec can't encode character '\\u2728' in position 55: illegal multibyte sequence\n",
      "caroline caroline all the guys say she's mighty fine  i threw up a little making this :-) hbd ❤️ @carolineking0 http://t.co/ttpeupxf44 'cp949' codec can't encode character '\\u2764' in position 94: illegal multibyte sequence\n",
      "@anaateresaa_ you &amp the baby😊😊 next time  it's my house  i have it whenever :) 'cp949' codec can't encode character '\\U0001f60a' in position 31: illegal multibyte sequence\n",
      "@pallaviruhail @bhaktisbanter #flipkartfashionfriday 😀😁😂😃😄😅 no no won't give dear don't worry :) 'cp949' codec can't encode character '\\U0001f600' in position 53: illegal multibyte sequence\n",
      "woke up yo @trentowers fav my tweet this made my day :)) now just @luketurner89 😂 http://t.co/ogw5svij7g 'cp949' codec can't encode character '\\U0001f602' in position 80: illegal multibyte sequence\n",
      "@primavera_bella 30°c 😜 so we just should change for few days and all is good :))) 'cp949' codec can't encode character '\\U0001f61c' in position 22: illegal multibyte sequence\n"
     ]
    },
    {
     "name": "stderr",
     "output_type": "stream",
     "text": [
      " 22%|██▏       | 1119/5000 [00:00<00:03, 1260.65it/s]"
     ]
    },
    {
     "name": "stdout",
     "output_type": "stream",
     "text": [
      "@camerondallas definitely loves making people smile cause i swear since i met him earlier i haven't stopped smiling : i love you cam 😭❤️ 'cp949' codec can't encode character '\\U0001f62d' in position 133: illegal multibyte sequence\n",
      "i love my body when it's fuller and shit even when it's not lol i'm just happy to be healthy : happy to be happy. 💓 'cp949' codec can't encode character '\\U0001f493' in position 114: illegal multibyte sequence\n"
     ]
    },
    {
     "name": "stderr",
     "output_type": "stream",
     "text": [
      " 28%|██▊       | 1378/5000 [00:01<00:02, 1259.19it/s]"
     ]
    },
    {
     "name": "stdout",
     "output_type": "stream",
     "text": [
      "telling people at kfc to go buy \"she's kinda hot on itunes :)) #dedicatedfan\n",
      "@5sos 💜💜💜💜 'cp949' codec can't encode character '\\U0001f49c' in position 84: illegal multibyte sequence\n",
      "\"who's the mom? the girl that gave birth :- 😂 'cp949' codec can't encode character '\\U0001f602' in position 44: illegal multibyte sequence\n",
      "screaming happy bday to my fav boy in the whole wide world! 🌎🌎❤️❤️❤️ i love you! :  the big 18  https://t.co/syqtgaq21i 'cp949' codec can't encode character '\\U0001f30e' in position 60: illegal multibyte sequence\n",
      "there should be a shoe store that serves sushi while you shop a shoeshi shop ok not all my ideas change the world : �s 'cp949' codec can't encode character '\\ufffd' in position 116: illegal multibyte sequence\n",
      "🌞🌞  :))))))) stay perfect girly 'cp949' codec can't encode character '\\U0001f31e' in position 0: illegal multibyte sequence\n"
     ]
    },
    {
     "name": "stderr",
     "output_type": "stream",
     "text": [
      " 33%|███▎      | 1635/5000 [00:01<00:02, 1249.70it/s]"
     ]
    },
    {
     "name": "stdout",
     "output_type": "stream",
     "text": [
      "what could be more fun than a sexy girl two sexy girls :  http://t.co/1n5zfaqyyz 👈 http://t.co/kzwz5i3pyn 'cp949' codec can't encode character '\\U0001f448' in position 81: illegal multibyte sequence\n",
      "@alamihasson #دعمم للعودة للحياة heiyo visit my website for free 50.000 coins in 8 ball pool now thanks :d 'cp949' codec can't encode character '\\u062f' in position 14: illegal multibyte sequence\n",
      "@uptownctw p£t£ heiya visit my site if u wanna grab a free 30.000 8 ball pool coins thank you :) 'cp949' codec can't encode character '\\xa3' in position 12: illegal multibyte sequence\n",
      "\"@justinbieber :)\"why baby?😘😘😘 'cp949' codec can't encode character '\\U0001f618' in position 27: illegal multibyte sequence\n",
      "happy bday @emilybett you are awesome and thank you for the amazing felicity smoak : ❤👓💘 'cp949' codec can't encode character '\\u2764' in position 85: illegal multibyte sequence\n"
     ]
    },
    {
     "name": "stderr",
     "output_type": "stream",
     "text": [
      " 38%|███▊      | 1906/5000 [00:01<00:02, 1298.31it/s]"
     ]
    },
    {
     "name": "stdout",
     "output_type": "stream",
     "text": [
      "i will fulfil all your fantasies :  http://t.co/whkcoowh39 👈 http://t.co/ubl93yssxf 'cp949' codec can't encode character '\\U0001f448' in position 59: illegal multibyte sequence\n",
      "@independent_ie omg i thought that was stan lee for a second there ❤️❤️ :) 'cp949' codec can't encode character '\\u2764' in position 67: illegal multibyte sequence\n",
      "@chruilo i have to add that to my information : to be virgin it means that i have to bleed until i die right! is that what virgin means 😊 'cp949' codec can't encode character '\\U0001f60a' in position 136: illegal multibyte sequence\n",
      "just in case bae acts brand new :)💘 'cp949' codec can't encode character '\\U0001f498' in position 34: illegal multibyte sequence\n"
     ]
    },
    {
     "name": "stderr",
     "output_type": "stream",
     "text": [
      " 44%|████▎     | 2178/5000 [00:01<00:02, 1327.67it/s]"
     ]
    },
    {
     "name": "stdout",
     "output_type": "stream",
     "text": [
      "pixgram is an app to have a creative slideshow with photos and music you love download pixgram for free : https://t.co/iiqnfeib5s 😒🌚 'cp949' codec can't encode character '\\U0001f612' in position 130: illegal multibyte sequence\n",
      "when u r obsessed with oth and watching the whole show for a third time :))) 💗 'cp949' codec can't encode character '\\U0001f497' in position 77: illegal multibyte sequence\n",
      "@annisast okay thank you mak ∗lega :)) 'cp949' codec can't encode character '\\u2217' in position 29: illegal multibyte sequence\n",
      "also went driving for an hour today and on more main roads to the shops and it went quite well : thanks @thatjessgirl92 😘😘 'cp949' codec can't encode character '\\U0001f618' in position 120: illegal multibyte sequence\n",
      "i�m a pandimensional being you should see my other manifestations :) 'cp949' codec can't encode character '\\ufffd' in position 1: illegal multibyte sequence\n",
      "@bluegirl200345 we're always here if you want to talk :)\n",
      "~😊 'cp949' codec can't encode character '\\U0001f60a' in position 59: illegal multibyte sequence\n",
      "@alex_ollym_nh me neither : excited!!!! 🎉🎉 xxx 'cp949' codec can't encode character '\\U0001f389' in position 40: illegal multibyte sequence\n",
      "@clevelandpro65 thanks.:)☺️ 'cp949' codec can't encode character '\\u263a' in position 25: illegal multibyte sequence\n",
      "hello 👊🏻“@yayanijadeepal hi : \n",
      "#trmdhesitant” 'cp949' codec can't encode character '\\U0001f44a' in position 6: illegal multibyte sequence\n",
      "😂😂thank you :d https://t.co/v6av6doasy 'cp949' codec can't encode character '\\U0001f602' in position 0: illegal multibyte sequence\n"
     ]
    },
    {
     "name": "stderr",
     "output_type": "stream",
     "text": [
      " 52%|█████▏    | 2592/5000 [00:02<00:01, 1360.09it/s]"
     ]
    },
    {
     "name": "stdout",
     "output_type": "stream",
     "text": [
      "@izblariana baby im worth it uhuh : 🎵🎵🎵🎵 'cp949' codec can't encode character '\\U0001f3b5' in position 36: illegal multibyte sequence\n",
      "@stephbichard thank you stephanie ily2 💖💖:) 'cp949' codec can't encode character '\\U0001f496' in position 39: illegal multibyte sequence\n",
      "@jessicatm23 happy belated birthday cikaaa☺wish you all the best o: maaf telat ngucapinnya :d 'cp949' codec can't encode character '\\u263a' in position 42: illegal multibyte sequence\n",
      "@jellybabymom2 haha thank you : 🍰 'cp949' codec can't encode character '\\U0001f370' in position 32: illegal multibyte sequence\n",
      "@richycee93 £20 deposit to secure one :) 'cp949' codec can't encode character '\\xa3' in position 12: illegal multibyte sequence\n",
      "▪️bea miller lockscreen▪️\n",
      "rt/fav if you want it\n",
      "mbf so we can dm it to you :)\n",
      "-keesh http://t.co/eh5psfooyj 'cp949' codec can't encode character '\\u25aa' in position 0: illegal multibyte sequence\n"
     ]
    },
    {
     "name": "stderr",
     "output_type": "stream",
     "text": [
      " 57%|█████▋    | 2866/5000 [00:02<00:01, 1340.17it/s]"
     ]
    },
    {
     "name": "stdout",
     "output_type": "stream",
     "text": [
      "@astftmarv @astonmerrygold see you soon : the things we do for him 😂 'cp949' codec can't encode character '\\U0001f602' in position 67: illegal multibyte sequence\n",
      "..... and we have a special offer on this  rrp £18.99 our price £13.99.....:) 'cp949' codec can't encode character '\\xa3' in position 47: illegal multibyte sequence\n",
      "@wilma2207fwilma haha thank you : 🍰 'cp949' codec can't encode character '\\U0001f370' in position 34: illegal multibyte sequence\n",
      "@asapofficial we love you liza!:)😘 'cp949' codec can't encode character '\\U0001f618' in position 33: illegal multibyte sequence\n",
      "@tacosec an human that be like to eat many tacos here in mexico the taco is the best thing in my country viva méxico :d 'cp949' codec can't encode character '\\xe9' in position 111: illegal multibyte sequence\n",
      "some of you guys are saying that you don't have omegle😁you could just use google : that's what i'm doing 'cp949' codec can't encode character '\\U0001f601' in position 54: illegal multibyte sequence\n",
      "@beingdoris thank you : 🍰 'cp949' codec can't encode character '\\U0001f370' in position 24: illegal multibyte sequence\n",
      "@_sarah_mae omg you can't just tell this and don't say more :p can't wait to know !!! ❤️ 'cp949' codec can't encode character '\\u2764' in position 86: illegal multibyte sequence\n",
      "@thenwchica thank you : 🍰"
     ]
    },
    {
     "name": "stderr",
     "output_type": "stream",
     "text": [
      " 63%|██████▎   | 3132/5000 [00:02<00:01, 1278.36it/s]"
     ]
    },
    {
     "name": "stdout",
     "output_type": "stream",
     "text": [
      " 'cp949' codec can't encode character '\\U0001f370' in position 24: illegal multibyte sequence\n",
      "wowwww thanks a lot team : ❤💙💚💕❤💙💚 ❤💙💚💕❤💙💚 via @manoharrpm 'cp949' codec can't encode character '\\u2764' in position 27: illegal multibyte sequence\n",
      "@maxivisioneye wowwww thanks a lot team : ❤💙💚💕❤💙💚 ❤💙💚💕❤💙💚💕 'cp949' codec can't encode character '\\u2764' in position 42: illegal multibyte sequence\n",
      "5sos calum5sos luke5sos ashton5sos hey guys please follow ✧ chelny ｡ :) 'cp949' codec can't encode character '\\u2727' in position 58: illegal multibyte sequence\n",
      "@tracysbakes haha thank you : 🍰 'cp949' codec can't encode character '\\U0001f370' in position 30: illegal multibyte sequence\n",
      "i’m a muslim and i love my prophets :)\n",
      "\n",
      "#غردلي http://t.co/eelrfzu8lc 'cp949' codec can't encode character '\\u063a' in position 43: illegal multibyte sequence\n",
      "keep smiling : perhaps your smile will renew hope for someone who's about to lose it . •smiling is charity :) 'cp949' codec can't encode character '\\u2022' in position 87: illegal multibyte sequence\n",
      "have a blessed friday :)\n",
      "#جمعة_مباركة 'cp949' codec can't encode character '\\u062c' in position 27: illegal multibyte sequence\n",
      "@munaabusulayman @shounshounette : thank you so much😊😊 'cp949' codec can't encode character '\\U0001f60a' in position 52: illegal multibyte sequence\n",
      "james_yammouni hey james thanks for the follow but please follow ✧ chelny ｡ :) 'cp949' codec can't encode character '\\u2727' in position 65: illegal multibyte sequence\n",
      "let http://t.co/jknpwfdqkq help you get your book published ebook or print let us help launch it self-publishers :- let's do it! 'cp949' codec can't encode character '\\xa0' in position 26: illegal multibyte sequence\n",
      "cousins are for life :)❤💜💘 #vsco #vscocam #vscoph #vscogood #vscophil #vscocousins #love https://t.co/jwnwlup583 'cp949' codec can't encode character '\\u2764' in position 23: illegal multibyte sequence\n",
      "okay let's start with a little feature today : yūjō-cosplay are cosplayers from luxembourg who only started.. http://t.co/sraoxzxjmr 'cp949' codec can't encode character '\\u016b' in position 48: illegal multibyte sequence\n",
      "@solacehes i'm really nice actually😂😁and thanks :) 'cp949' codec can't encode character '\\U0001f602' in position 35: illegal multibyte sequence\n",
      "@qqooooooooooo بندر العنزي heiyo visit my website for free 50.000 coins in 8 ball pool now thanks :d 'cp949' codec can't encode character '\\u0628' in position 15: illegal multibyte sequence\n"
     ]
    },
    {
     "name": "stderr",
     "output_type": "stream",
     "text": [
      " 68%|██████▊   | 3390/5000 [00:02<00:01, 1279.60it/s]"
     ]
    },
    {
     "name": "stdout",
     "output_type": "stream",
     "text": [
      "i will fulfil all your fantasies :  http://t.co/vuc1ci1e0u 👈 http://t.co/ych5wjt7ci 'cp949' codec can't encode character '\\U0001f448' in position 59: illegal multibyte sequence\n",
      "@affan24 hahaha are u serious?\n",
      "himmat karain aur moo pay baat karain :)\n",
      "u won't believe meri debates abu k cousins k sath hotee-my uncles!😂 'cp949' codec can't encode character '\\U0001f602' in position 140: illegal multibyte sequence\n",
      "allah swt always has 3 replies to our prayers \n",
      "1 yes.\n",
      "2 yes but not now.\n",
      "3 i have a better plan for you.\n",
      "there’s never a no :)\n",
      "#غردلي 'cp949' codec can't encode character '\\u063a' in position 133: illegal multibyte sequence\n",
      "@zbeech that will be £15.90 for you :-) 'cp949' codec can't encode character '\\xa3' in position 21: illegal multibyte sequence\n",
      "«--\"@yokokuali i :)\"@kreizi_ who wants a #ff s/o??\"\" 'cp949' codec can't encode character '\\xab' in position 0: illegal multibyte sequence\n",
      "@obeeteam  ⚡your blog http://t.co/tkf5aexfri totally rocks :d   👏 'cp949' codec can't encode character '\\u26a1' in position 11: illegal multibyte sequence\n"
     ]
    },
    {
     "name": "stderr",
     "output_type": "stream",
     "text": [
      " 73%|███████▎  | 3657/5000 [00:02<00:01, 1304.42it/s]"
     ]
    },
    {
     "name": "stdout",
     "output_type": "stream",
     "text": [
      "🍸╲──╱🍤╭╮╭╮┓┓╭╮╮┳╭🍸╲──╱🍤\n",
      "🍤─╲╱─🍸┣╱╰╯┗┗╰╯╰┻╯🍤─╲╱─🍸@yolkarjoma big love and hugs for you babe : http://t.co/tbinpwy83k 'cp949' codec can't encode character '\\U0001f378' in position 0: illegal multibyte sequence\n",
      "waiting patiently for mr crush : but first let me go to sleep 😴 'cp949' codec can't encode character '\\U0001f634' in position 62: illegal multibyte sequence\n",
      "💃💃💃\"@boitumelo_sa @roooosta happy birthday to you too let the joys never end :d\" 'cp949' codec can't encode character '\\U0001f483' in position 0: illegal multibyte sequence\n",
      "bout to lay down and watch jurassic world with @taylerbrayden! love our little movie nights : 💕 'cp949' codec can't encode character '\\U0001f495' in position 94: illegal multibyte sequence\n",
      "sabah sabah kapima gelen guzel bir hediye : thanx for this wonderful present my honey 💞 http://t.co/gpkmjrrh7x 'cp949' codec can't encode character '\\U0001f49e' in position 86: illegal multibyte sequence\n",
      "#kianweareproud so proud of you : love you so much 💜 'cp949' codec can't encode character '\\U0001f49c' in position 51: illegal multibyte sequence\n",
      "🍅 you're funny and nice :) 'cp949' codec can't encode character '\\U0001f345' in position 0: illegal multibyte sequence\n",
      "smile its sunnah :)\n",
      "\n",
      "#غردلي #عن http://t.co/r7wae3ujbq 'cp949' codec can't encode character '\\u063a' in position 24: illegal multibyte sequence\n",
      "@alyssaa_o your bestfriend :))😌 'cp949' codec can't encode character '\\U0001f60c' in position 30: illegal multibyte sequence\n"
     ]
    },
    {
     "name": "stderr",
     "output_type": "stream",
     "text": [
      " 78%|███████▊  | 3914/5000 [00:03<00:00, 1245.93it/s]"
     ]
    },
    {
     "name": "stdout",
     "output_type": "stream",
     "text": [
      "@iambugti_18 &lt;------ff__special\n",
      "acha banda hai  tweets bhi achi krta hai\n",
      "handsome bhi hai 😂\n",
      "must follow :) 'cp949' codec can't encode character '\\U0001f602' in position 95: illegal multibyte sequence\n",
      "@susie299 gorgeous body : wonder how close you are 😜 'cp949' codec can't encode character '\\U0001f61c' in position 51: illegal multibyte sequence\n",
      "hey hunny @shana_banana_44 enjoy the weekend : 💕 'cp949' codec can't encode character '\\U0001f495' in position 47: illegal multibyte sequence\n",
      "jacob it's @gwendobocquet bday and she got tix for us in paris omg please wish her! #first50europe 🇫 :d 'cp949' codec can't encode character '\\U0001f1eb' in position 99: illegal multibyte sequence\n"
     ]
    },
    {
     "name": "stderr",
     "output_type": "stream",
     "text": [
      " 84%|████████▎ | 4176/5000 [00:03<00:00, 1248.04it/s]"
     ]
    },
    {
     "name": "stdout",
     "output_type": "stream",
     "text": [
      "good morning all :-)\n",
      "\n",
      "it's friday!!!!! 󾰀\n",
      "\n",
      "what are your plans for the day i am currently playing shops with my.. http://t.co/qokqudwcb5 'cp949' codec can't encode character '\\U000fec00' in position 41: illegal multibyte sequence\n",
      "💓🚮👯 the definition of perfection would have a picture of you next to it :) 'cp949' codec can't encode character '\\U0001f493' in position 0: illegal multibyte sequence\n",
      "@myninaaa @_kyle__86 thank you : 💕 'cp949' codec can't encode character '\\U0001f495' in position 33: illegal multibyte sequence\n",
      "every year in august i get fever :p dunno why 😷 'cp949' codec can't encode character '\\U0001f637' in position 46: illegal multibyte sequence\n",
      "i will fulfil all your fantasies :  http://t.co/wkpgkidemp 👈 http://t.co/hhoyjasr1a 'cp949' codec can't encode character '\\U0001f448' in position 59: illegal multibyte sequence\n",
      "👱🏽👽 😂😂 i've talked to u only a couple times but u seem very nice and funny :) 'cp949' codec can't encode character '\\U0001f471' in position 0: illegal multibyte sequence\n"
     ]
    },
    {
     "name": "stderr",
     "output_type": "stream",
     "text": [
      " 89%|████████▉ | 4442/5000 [00:03<00:00, 1286.14it/s]"
     ]
    },
    {
     "name": "stdout",
     "output_type": "stream",
     "text": [
      "@briones198 always makes things better :)❤️ 'cp949' codec can't encode character '\\u2764' in position 41: illegal multibyte sequence\n",
      "@vivienneclore that is so cute :- 🐶 'cp949' codec can't encode character '\\U0001f436' in position 34: illegal multibyte sequence\n",
      "@stuarty2112 :- cheers pete will have a listen later ☺☺ 'cp949' codec can't encode character '\\u263a' in position 53: illegal multibyte sequence\n",
      "@mehra_sachi aha that's alright ❤️ we love you too :  a 'cp949' codec can't encode character '\\u2764' in position 32: illegal multibyte sequence\n",
      "smile its sunnah :)\n",
      "\n",
      "#غردلي #عن http://t.co/levvielarv 'cp949' codec can't encode character '\\u063a' in position 24: illegal multibyte sequence\n",
      "hey @joshdevinedrums!:)\n",
      "\n",
      "check this pictures out and what do you think?:)\n",
      "\n",
      "notice and follow me please?💕\n",
      "\n",
      "x http://t.co/iamfvdrmjb 'cp949' codec can't encode character '\\U0001f495' in position 107: illegal multibyte sequence\n",
      "party at our 3d printer : celebrating future technology's and it's possibilities #touchétoday https://t.co/tlcoj355rt 'cp949' codec can't encode character '\\xe9' in position 87: illegal multibyte sequence\n",
      "@ochoaofficiai idk :p she follows me😎💁🏻 'cp949' codec can't encode character '\\U0001f60e' in position 36: illegal multibyte sequence\n",
      "0 sleeps @rachelbutterwor is officially on her way to paris i cannot wait : #paris #tdf2015 🇫🇷🍷🍸☀️🇫🇷🚲🇫🇷🍷🍸☀️🚲 'cp949' codec can't encode character '\\U0001f1eb' in position 92: illegal multibyte sequence\n",
      "@varun_dvn okeyyyyyy vdddd :)));))) so excited can't wait ..   love selfeeee pics on insta : ♥ special coco . 🙆🙌😛😄😄😁😂😂🐒😁😝 #dishoom 'cp949' codec can't encode character '\\U0001f646' in position 110: illegal multibyte sequence\n",
      "niall followed a fan : and i'm still here without his follow 👍 'cp949' codec can't encode character '\\U0001f44d' in position 61: illegal multibyte sequence\n",
      "thank you majalah http://t.co/5jjcwzzxuj for having @nabilaaf2013 on your july issue : lovely 👍🏼👍🏼👍🏼😍😍😍😍😍🌸🌸🌸🌸 http://t.co/zhk7svrihe 'cp949' codec can't encode character '\\U0001f44d' in position 94: illegal multibyte sequence\n"
     ]
    },
    {
     "name": "stderr",
     "output_type": "stream",
     "text": [
      " 94%|█████████▍| 4700/5000 [00:03<00:00, 1204.69it/s]"
     ]
    },
    {
     "name": "stdout",
     "output_type": "stream",
     "text": [
      "happy #friday folks! if your order your #goodyear #tyres online @protyre you can get upto £40 cashback! (t&amp;cs apply #yourewelcome :) 'cp949' codec can't encode character '\\xa3' in position 90: illegal multibyte sequence\n",
      "its leo season :- ♌️ 'cp949' codec can't encode character '\\u264c' in position 18: illegal multibyte sequence\n",
      "@pussy_lilac no problem : it's a pleasure ❤️ 'cp949' codec can't encode character '\\u2764' in position 42: illegal multibyte sequence\n",
      "@notjagath are you a member of හෙල හවුල by any chance :d @chevindu 'cp949' codec can't encode character '\\u0dc4' in position 31: illegal multibyte sequence\n",
      "@demoorsophie hii can you follow me please i'd like ask you one thing in dm :)💞 'cp949' codec can't encode character '\\U0001f49e' in position 78: illegal multibyte sequence\n",
      "@iamahmadshahzad aameen..:)\n",
      "long live pakistan..#bleedgreen..✌🏻️ 'cp949' codec can't encode character '\\u270c' in position 62: illegal multibyte sequence\n",
      "what could be more fun than a sexy girl two sexy girls :  http://t.co/s7kw8wesbs 👈 http://t.co/p7entlcsum 'cp949' codec can't encode character '\\U0001f448' in position 81: illegal multibyte sequence\n",
      "three refreshing cocktails for an even «hotter summer which one suits you :)\n",
      "#londoutrading #cocktails http://t.co/jhjvzhoxlq 'cp949' codec can't encode character '\\xab' in position 39: illegal multibyte sequence\n",
      "@yasminyasir96 yeah but it will be better if we use her official account : like the other @pracchindesai ❤️ 'cp949' codec can't encode character '\\u2764' in position 105: illegal multibyte sequence\n"
     ]
    },
    {
     "name": "stderr",
     "output_type": "stream",
     "text": [
      "100%|██████████| 5000/5000 [00:03<00:00, 1259.80it/s]"
     ]
    },
    {
     "name": "stdout",
     "output_type": "stream",
     "text": [
      "goodnight  i love luke with all my heart :- all my love 💜 'cp949' codec can't encode character '\\U0001f49c' in position 56: illegal multibyte sequence\n",
      "@_halie13_ thanks for being so great!: ❤️😘 'cp949' codec can't encode character '\\u2764' in position 39: illegal multibyte sequence\n",
      "@sivakaneswaran happy birthday  @jaymcguiness #jiva for ever : 🍹🍸🍻 'cp949' codec can't encode character '\\U0001f379' in position 63: illegal multibyte sequence\n",
      "jumma mubbarak : \n",
      "to all ❤❤ 'cp949' codec can't encode character '\\u2764' in position 26: illegal multibyte sequence\n",
      "@dontyk if it's no use to you i'll pick it up next time i'm down : yeah i'll cook in my nice big kitchen 😍😊 'cp949' codec can't encode character '\\U0001f60d' in position 105: illegal multibyte sequence\n",
      "    @louis_tomlinson    ⊹\n",
      "thank you for always putting\n",
      "a smile on my face\n",
      "mind following me :)\n",
      "have a nice day x\n",
      "1710 'cp949' codec can't encode character '\\u22b9' in position 24: illegal multibyte sequence\n",
      "im going to bed i love hailey and milks craźy sęxxxÿ cøôl runway look :) 'cp949' codec can't encode character '\\u017a' in position 43: illegal multibyte sequence\n",
      "    @louis_tomlinson    ⊹\n",
      "thank you for always putting\n",
      "a smile on my face\n",
      "mind following me :)\n",
      "have a nice day x\n",
      "1709 'cp949' codec can't encode character '\\u22b9' in position 24: illegal multibyte sequence\n",
      "    @louis_tomlinson    ⊹\n",
      "thank you for always putting\n",
      "a smile on my face\n",
      "mind following me :)\n",
      "have a nice day x\n",
      "1708 'cp949' codec can't encode character '\\u22b9' in position 24: illegal multibyte sequence\n",
      "@neenkin yeah neenkin congrats on your successful masterpiece : 🎉 'cp949' codec can't encode character '\\U0001f389' in position 64: illegal multibyte sequence\n",
      "    @louis_tomlinson    ⊹\n",
      "thank you for always putting\n",
      "a smile on my face\n",
      "mind following me :)\n",
      "have a nice day x\n",
      "1707 'cp949' codec can't encode character '\\u22b9' in position 24: illegal multibyte sequence\n"
     ]
    },
    {
     "name": "stderr",
     "output_type": "stream",
     "text": [
      "\n"
     ]
    }
   ],
   "source": [
    "txt_files_dir = \"\\\\tmp\\\\text_split\"\n",
    "!mkdir {txt_files_dir}\n",
    "i=0\n",
    "for row in tqdm(pos_df_text.to_list()):\n",
    "    file_name = os.path.join(txt_files_dir,str(i)+'.txt')\n",
    "    try:\n",
    "        f=open(file_name,'w')\n",
    "        f.write(row)\n",
    "        f.close()\n",
    "    except Exception as e:\n",
    "        print(row, e)\n",
    "    i+=1"
   ]
  },
  {
   "cell_type": "code",
   "execution_count": 70,
   "metadata": {},
   "outputs": [
    {
     "name": "stderr",
     "output_type": "stream",
     "text": [
      "  5%|▌         | 251/5000 [00:00<00:03, 1247.79it/s]"
     ]
    },
    {
     "name": "stdout",
     "output_type": "stream",
     "text": [
      "no assignment but we have project : really 😩 'cp949' codec can't encode character '\\U0001f629' in position 43: illegal multibyte sequence\n",
      "my $$$$2 dollar : 😭😭😭😭😭 http://t.co/oi0pygusdi 'cp949' codec can't encode character '\\U0001f62d' in position 18: illegal multibyte sequence\n",
      "@littlemix french mixers miss you so much : 💜 'cp949' codec can't encode character '\\U0001f49c' in position 44: illegal multibyte sequence\n",
      "@concept_nathan nathann i never got a chance to take a pic with you : got a hug tho pic next time i see you?😊 'cp949' codec can't encode character '\\U0001f60a' in position 108: illegal multibyte sequence\n",
      "@deedee_50fly foreals : a wesen uwesiti mj 😂😩 'cp949' codec can't encode character '\\U0001f602' in position 43: illegal multibyte sequence\n",
      "raining on me today : \n",
      "\n",
      "gym it is then 💪🏻🐒 'cp949' codec can't encode character '\\U0001f4aa' in position 41: illegal multibyte sequence\n"
     ]
    },
    {
     "name": "stderr",
     "output_type": "stream",
     "text": [
      " 10%|█         | 502/5000 [00:00<00:03, 1247.26it/s]"
     ]
    },
    {
     "name": "stdout",
     "output_type": "stream",
     "text": [
      "my last cross country in ij was amazing!!!!!!!💥✨ can't bear to leave :- https://t.co/vkvoxiaeqn 'cp949' codec can't encode character '\\U0001f4a5' in position 46: illegal multibyte sequence\n",
      "this weather has me scrolling through my contacts of people i've curved on some \"hey you 😉 sigh :( 'cp949' codec can't encode character '\\U0001f609' in position 89: illegal multibyte sequence\n",
      "@nnoonlight i missed you : it was okay lol i did nothing 😂 'cp949' codec can't encode character '\\U0001f602' in position 57: illegal multibyte sequence\n",
      "@cmpunk @mattjackson13 please please come back to wwe : تكفى 'cp949' codec can't encode character '\\u062a' in position 56: illegal multibyte sequence\n",
      "i want jack's follow so bad but i don't want to be annoying by spamming him : sooo @jackgilinsky follow me please ☺💜 'cp949' codec can't encode character '\\u263a' in position 114: illegal multibyte sequence\n",
      "@littlemix have fun in germany : i can't be there 😭 'cp949' codec can't encode character '\\U0001f62d' in position 50: illegal multibyte sequence\n"
     ]
    },
    {
     "name": "stderr",
     "output_type": "stream",
     "text": [
      " 15%|█▍        | 744/5000 [00:00<00:03, 1221.33it/s]"
     ]
    },
    {
     "name": "stdout",
     "output_type": "stream",
     "text": [
      "@benzyyyyy with you talaga the best :- 😂 'cp949' codec can't encode character '\\U0001f602' in position 39: illegal multibyte sequence\n",
      "wish id put more than £50 on real madrid #shithouse :( 'cp949' codec can't encode character '\\xa3' in position 22: illegal multibyte sequence\n",
      "@1q4h_ cheer up! :- 😘💖 'cp949' codec can't encode character '\\U0001f618' in position 20: illegal multibyte sequence\n",
      "@gothicfrog sad to see you go : was there a particular issue the support team can help http://t.co/mcvojhpvlv #fxhelp 'cp949' codec can't encode character '\\xa0' in position 29: illegal multibyte sequence\n",
      "@kittykatpk i hope so :(💜 'cp949' codec can't encode character '\\U0001f49c' in position 24: illegal multibyte sequence\n",
      "my original ticket was £19 :("
     ]
    },
    {
     "name": "stderr",
     "output_type": "stream",
     "text": [
      " 20%|█▉        | 975/5000 [00:00<00:03, 1183.77it/s]"
     ]
    },
    {
     "name": "stdout",
     "output_type": "stream",
     "text": [
      " 'cp949' codec can't encode character '\\xa3' in position 23: illegal multibyte sequence\n",
      "this place will forever hold a very special place in my heart :- ❤️ gonna miss you germany  http://t.co/fwdwyovepv 'cp949' codec can't encode character '\\u2764' in position 65: illegal multibyte sequence\n",
      "don't know why i gave my white dress with small polka dots away : 😭 *sigh ndi hacked. 'cp949' codec can't encode character '\\U0001f62d' in position 66: illegal multibyte sequence\n",
      "trust me to be no well : awell not be long and i will be to drunk to care #weekendofmadness 🍹🍸🍹 'cp949' codec can't encode character '\\U0001f379' in position 92: illegal multibyte sequence\n",
      "@elissejoson miss you so much ate elisse :( do u still remember me 😭 'cp949' codec can't encode character '\\U0001f62d' in position 67: illegal multibyte sequence\n",
      "@sibulela_m only white things i have ngeze turn up : for all white parties i've been to have nothing cocktaily and classy 😭😭 so stressed. 'cp949' codec can't encode character '\\U0001f62d' in position 122: illegal multibyte sequence\n",
      "✈️2 days and i'm back in rainy uk :-(☔️ 'cp949' codec can't encode character '\\u2708' in position 0: illegal multibyte sequence\n",
      "😂😂😂\"@danny_boym lol 👌\"@sick_fruits : @_kydd_que lmfaoo..so accurate!! http://t.co/k4daapzfuz\"\" 'cp949' codec can't encode character '\\U0001f602' in position 0: illegal multibyte sequence\n"
     ]
    },
    {
     "name": "stderr",
     "output_type": "stream",
     "text": [
      "\r",
      " 22%|██▏       | 1087/5000 [00:00<00:03, 1143.50it/s]"
     ]
    },
    {
     "name": "stdout",
     "output_type": "stream",
     "text": [
      "goodbye ny : 🚖🗽 http://t.co/unorqb0mlk 'cp949' codec can't encode character '\\U0001f696' in position 13: illegal multibyte sequence\n",
      "well summers over then : knew it wouldn't last we do live in britain ☺️😂 http://t.co/gkfgw0khy6 'cp949' codec can't encode character '\\u263a' in position 69: illegal multibyte sequence\n",
      "5sos calum5sos luke5sos ashton5sos i bet $20 to a friend that you will follow ✧ chelny ｡ do not disappoint me :( 'cp949' codec can't encode character '\\u2727' in position 78: illegal multibyte sequence\n",
      "i mean i'm drunk in méxico city :( 'cp949' codec can't encode character '\\xe9' in position 21: illegal multibyte sequence\n",
      "james_yammouni i bet $20 that you will follow ✧ chelny ｡ do not disappoint me :( 'cp949' codec can't encode character '\\u2727' in position 46: illegal multibyte sequence\n",
      "@lawrenceispichu yeah : and always here 💕 'cp949' codec can't encode character '\\U0001f495' in position 40: illegal multibyte sequence\n"
     ]
    },
    {
     "name": "stderr",
     "output_type": "stream",
     "text": [
      " 29%|██▊       | 1430/5000 [00:01<00:03, 1118.73it/s]"
     ]
    },
    {
     "name": "stdout",
     "output_type": "stream",
     "text": [
      "@andylimko thank you sa bracelet ang ganda! :(( 💗💗💗 'cp949' codec can't encode character '\\U0001f497' in position 48: illegal multibyte sequence\n",
      "@casterogue @kristinemayor :(((( no money 😩😩😩😢 'cp949' codec can't encode character '\\U0001f629' in position 42: illegal multibyte sequence\n",
      "@ellierowexo in this weather are you mad &amp work : 😒😒 'cp949' codec can't encode character '\\U0001f612' in position 53: illegal multibyte sequence\n",
      "i also wanna go to the beach with my best fraand : i might need a new friend before december so we can go on holiday 😬 'cp949' codec can't encode character '\\U0001f62c' in position 117: illegal multibyte sequence\n"
     ]
    },
    {
     "name": "stderr",
     "output_type": "stream",
     "text": [
      " 33%|███▎      | 1668/5000 [00:01<00:02, 1153.80it/s]"
     ]
    },
    {
     "name": "stdout",
     "output_type": "stream",
     "text": [
      "i’d really like to handle murielle ahouré’s pr/brand image she’s missing too many opportunities :( 'cp949' codec can't encode character '\\xe9' in position 40: illegal multibyte sequence\n",
      "@itzbabyalexa :(( love ya 2 😭💖 'cp949' codec can't encode character '\\U0001f62d' in position 28: illegal multibyte sequence\n",
      "@andrewkantarias *on a serious note you should *100% reply to my dm that i sent you haha 😄 cause it actually is kinda serious.. : 😔😓 'cp949' codec can't encode character '\\U0001f604' in position 89: illegal multibyte sequence\n",
      "rt for 5 free follows\n",
      " mbf \n",
      " need more mutuals ❤️\n",
      " kpop accounts only \n",
      "no rt hahahaokay :( 'cp949' codec can't encode character '\\u2764' in position 49: illegal multibyte sequence\n",
      "“@tanithandicraft @stevensslateco hey found you viathe @rnli retweet 😊 brilliant how's #cyprus awful wet weather here :("
     ]
    },
    {
     "name": "stderr",
     "output_type": "stream",
     "text": [
      "\r",
      " 36%|███▌      | 1784/5000 [00:01<00:02, 1126.34it/s]"
     ]
    },
    {
     "name": "stdout",
     "output_type": "stream",
     "text": [
      " 'cp949' codec can't encode character '\\U0001f60a' in position 69: illegal multibyte sequence\n",
      "@1dlittlesecret i just saw a tweet saying you're going on the 30th : damn i cant see you take pictures i want to see my amazing view 😂 'cp949' codec can't encode character '\\U0001f602' in position 133: illegal multibyte sequence\n",
      "♛♛♛\n",
      "》》》 \n",
      "i love you so much.\n",
      "i beli̇eve that he wi̇ll follow.\n",
      "please follow me please justi̇n @justinbieber : x15.350\n",
      "》》》》ｓｅｅ ｍｅ\n",
      "♛♛♛ 'cp949' codec can't encode character '\\u265b' in position 0: illegal multibyte sequence\n",
      "♛♛♛\n",
      "》》》 \n",
      "i love you so much.\n",
      "i beli̇eve that he wi̇ll follow.\n",
      "please follow me please justi̇n @justinbieber : x15.349\n",
      "》》》》ｓｅｅ ｍｅ\n",
      "♛♛♛ 'cp949' codec can't encode character '\\u265b' in position 0: illegal multibyte sequence\n",
      "♛♛♛\n",
      "》》》 \n",
      "i love you so much.\n",
      "i beli̇eve that he wi̇ll follow.\n",
      "please follow me please justi̇n @justinbieber : x15.348\n",
      "》》》》ｓｅｅ ｍｅ\n",
      "♛♛♛ 'cp949' codec can't encode character '\\u265b' in position 0: illegal multibyte sequence\n",
      "♛♛♛\n",
      "》》》 \n",
      "i love you so much.\n",
      "i beli̇eve that he wi̇ll follow.\n",
      "please follow me please justi̇n @justinbieber : x15.347\n",
      "》》》》ｓｅｅ ｍｅ\n",
      "♛♛♛ 'cp949' codec can't encode character '\\u265b' in position 0: illegal multibyte sequence\n",
      "one tree hill makes me cry a lot 😕:-( 'cp949' codec can't encode character '\\U0001f615' in position 33: illegal multibyte sequence\n",
      "♛♛♛\n",
      "》》》 \n",
      "i love you so much.\n",
      "i beli̇eve that he wi̇ll follow.\n",
      "please follow me please justi̇n @justinbieber : x15.346\n",
      "》》》》ｓｅｅ ｍｅ\n",
      "♛♛♛ 'cp949' codec can't encode character '\\u265b' in position 0: illegal multibyte sequence\n",
      "♛♛♛\n",
      "》》》 \n",
      "i love you so much.\n",
      "i beli̇eve that he wi̇ll follow.\n",
      "please follow me please justi̇n @justinbieber : x15.345\n",
      "》》》》ｓｅｅ ｍｅ\n",
      "♛♛♛ 'cp949' codec can't encode character '\\u265b' in position 0: illegal multibyte sequence\n",
      "♛♛♛\n",
      "》》》 \n",
      "i love you so much.\n",
      "i beli̇eve that he wi̇ll follow.\n",
      "please follow me please justi̇n @justinbieber : x15.344\n",
      "》》》》ｓｅｅ ｍｅ\n",
      "♛♛♛ 'cp949' codec can't encode character '\\u265b' in position 0: illegal multibyte sequence\n",
      "♛♛♛\n",
      "》》》 \n",
      "i love you so much.\n",
      "i beli̇eve that he wi̇ll follow.\n",
      "please follow me please justi̇n @justinbieber : x15.343\n",
      "》》》》ｓｅｅ ｍｅ\n",
      "♛♛♛ 'cp949' codec can't encode character '\\u265b' in position 0: illegal multibyte sequence\n",
      "♛♛♛\n",
      "》》》 \n",
      "i love you so much.\n",
      "i beli̇eve that he wi̇ll follow.\n",
      "please follow me please justi̇n @justinbieber : x15.342\n",
      "》》》》ｓｅｅ ｍｅ\n",
      "♛♛♛ 'cp949' codec can't encode character '\\u265b' in position 0: illegal multibyte sequence\n",
      "♛♛♛\n",
      "》》》 \n",
      "i love you so much.\n",
      "i beli̇eve that he wi̇ll follow.\n",
      "please follow me please justi̇n @justinbieber : x15.341\n",
      "》》》》ｓｅｅ ｍｅ\n",
      "♛♛♛ 'cp949' codec can't encode character '\\u265b' in position 0: illegal multibyte sequence\n",
      "♛♛♛\n",
      "》》》 \n",
      "i love you so much.\n",
      "i beli̇eve that he wi̇ll follow.\n",
      "please follow me please justi̇n @justinbieber : x15.340\n",
      "》》》》ｓｅｅ ｍｅ\n",
      "♛♛♛ 'cp949' codec can't encode character '\\u265b' in position 0: illegal multibyte sequence\n",
      "@imcherrycblls i can't find kam's twitter and i wanna greet her a happy birthday : help meeee please 😁 'cp949' codec can't encode character '\\U0001f601' in position 101: illegal multibyte sequence\n",
      "♛♛♛\n",
      "》》》 \n",
      "i love you so much.\n",
      "i beli̇eve that he wi̇ll follow.\n",
      "please follow me please justi̇n @justinbieber : x15.339\n",
      "》》》》ｓｅｅ ｍｅ\n",
      "♛♛♛ 'cp949' codec can't encode character '\\u265b' in position 0: illegal multibyte sequence\n",
      "♛♛♛\n",
      "》》》 \n",
      "i love you so much.\n",
      "i beli̇eve that he wi̇ll follow.\n",
      "please follow me please justi̇n @justinbieber : x15.338\n",
      "》》》》ｓｅｅ ｍｅ\n",
      "♛♛♛ 'cp949' codec can't encode character '\\u265b' in position 0: illegal multibyte sequence\n",
      "♛♛♛\n",
      "》》》 \n",
      "i love you so much.\n",
      "i beli̇eve that he wi̇ll follow.\n",
      "please follow me please justi̇n @justinbieber : x15.337\n",
      "》》》》ｓｅｅ ｍｅ\n",
      "♛♛♛ 'cp949' codec can't encode character '\\u265b' in position 0: illegal multibyte sequence\n",
      "♛♛♛\n",
      "》》》 \n",
      "i love you so much.\n",
      "i beli̇eve that he wi̇ll follow.\n",
      "please follow me please justi̇n @justinbieber : x15.336\n",
      "》》》》ｓｅｅ ｍｅ\n",
      "♛♛♛ 'cp949' codec can't encode character '\\u265b' in position 0: illegal multibyte sequence\n",
      "♛♛♛\n",
      "》》》 \n",
      "i love you so much.\n",
      "i beli̇eve that he wi̇ll follow.\n",
      "please follow me please justi̇n @justinbieber : x15.335\n",
      "》》》》ｓｅｅ ｍｅ\n",
      "♛♛♛ 'cp949' codec can't encode character '\\u265b' in position 0: illegal multibyte sequence\n",
      "♛♛♛\n",
      "》》》 \n",
      "i love you so much.\n",
      "i beli̇eve that he wi̇ll follow.\n",
      "please follow me please justi̇n @justinbieber : x15.334\n",
      "》》》》ｓｅｅ ｍｅ\n",
      "♛♛♛ 'cp949' codec can't encode character '\\u265b' in position 0: illegal multibyte sequence\n",
      ": “@anelempupa vandag\"@chatlas it's been a long ass month...re kgola neng eintlik? 😢 http://t.co/u6m5qqtxxv” 'cp949' codec can't encode character '\\U0001f622' in position 83: illegal multibyte sequence\n",
      "♛♛♛\n",
      "》》》 \n",
      "i love you so much.\n",
      "i beli̇eve that he wi̇ll follow.\n",
      "please follow me please justi̇n @justinbieber : x15.333\n",
      "》》》》ｓｅｅ ｍｅ\n",
      "♛♛♛ 'cp949' codec can't encode character '\\u265b' in position 0: illegal multibyte sequence\n",
      "♛♛♛\n",
      "》》》 \n",
      "i love you so much.\n",
      "i beli̇eve that he wi̇ll follow.\n",
      "please follow me please justi̇n @justinbieber : x15.332\n",
      "》》》》ｓｅｅ ｍｅ\n",
      "♛♛♛ 'cp949' codec can't encode character '\\u265b' in position 0: illegal multibyte sequence\n",
      "♛♛♛\n",
      "》》》 \n",
      "i love you so much.\n",
      "i beli̇eve that he wi̇ll follow.\n",
      "please follow me please justi̇n @justinbieber : x15.331\n",
      "》》》》ｓｅｅ ｍｅ\n",
      "♛♛♛ 'cp949' codec can't encode character '\\u265b' in position 0: illegal multibyte sequence\n",
      "♛♛♛\n",
      "》》》 \n",
      "i love you so much.\n",
      "i beli̇eve that he wi̇ll follow.\n",
      "please follow me please justi̇n @justinbieber : x15.330\n",
      "》》》》ｓｅｅ ｍｅ\n",
      "♛♛♛ 'cp949' codec can't encode character '\\u265b' in position 0: illegal multibyte sequence\n",
      "♛♛♛\n",
      "》》》 \n",
      "i love you so much.\n",
      "i beli̇eve that he wi̇ll follow.\n",
      "please follow me please justi̇n @justinbieber : x15.329\n",
      "》》》》ｓｅｅ ｍｅ\n",
      "♛♛♛ 'cp949' codec can't encode character '\\u265b' in position 0: illegal multibyte sequence\n"
     ]
    },
    {
     "name": "stderr",
     "output_type": "stream",
     "text": [
      " 40%|████      | 2014/5000 [00:01<00:02, 1116.43it/s]"
     ]
    },
    {
     "name": "stdout",
     "output_type": "stream",
     "text": [
      "♛♛♛\n",
      "》》》 \n",
      "i love you so much.\n",
      "i beli̇eve that he wi̇ll follow.\n",
      "please follow me please justi̇n @justinbieber : x15.328\n",
      "》》》》ｓｅｅ ｍｅ\n",
      "♛♛♛ 'cp949' codec can't encode character '\\u265b' in position 0: illegal multibyte sequence\n",
      "gwss :(❤️❤️  thankyouu❤️ http://t.co/z0a6jtboh8 'cp949' codec can't encode character '\\u2764' in position 7: illegal multibyte sequence\n",
      "♛♛♛\n",
      "》》》 \n",
      "i love you so much.\n",
      "i beli̇eve that he wi̇ll follow.\n",
      "please follow me please justi̇n @justinbieber : x15.327\n",
      "》》》》ｓｅｅ ｍｅ\n",
      "♛♛♛ 'cp949' codec can't encode character '\\u265b' in position 0: illegal multibyte sequence\n",
      "♛♛♛\n",
      "》》》 \n",
      "i love you so much.\n",
      "i beli̇eve that he wi̇ll follow.\n",
      "please follow me please justi̇n @justinbieber : x15.326\n",
      "》》》》ｓｅｅ ｍｅ\n",
      "♛♛♛ 'cp949' codec can't encode character '\\u265b' in position 0: illegal multibyte sequence\n",
      "♛♛♛\n",
      "》》》 \n",
      "i love you so much.\n",
      "i beli̇eve that he wi̇ll follow.\n",
      "please follow me please justi̇n @justinbieber : x15.325\n",
      "》》》》ｓｅｅ ｍｅ\n",
      "♛♛♛ 'cp949' codec can't encode character '\\u265b' in position 0: illegal multibyte sequence\n",
      "♛♛♛\n",
      "》》》 \n",
      "i love you so much.\n",
      "i beli̇eve that he wi̇ll follow.\n",
      "please follow me please justi̇n @justinbieber : x15.324\n",
      "》》》》ｓｅｅ ｍｅ\n",
      "♛♛♛ 'cp949' codec can't encode character '\\u265b' in position 0: illegal multibyte sequence\n",
      "@jaaeeeeee lucky : i was feeling hungry but then i didn't wanna get out of bed either so i gotta wait until mañana 'cp949' codec can't encode character '\\xf1' in position 110: illegal multibyte sequence\n",
      "♛♛♛\n",
      "》》》 \n",
      "i love you so much.\n",
      "i beli̇eve that he wi̇ll follow.\n",
      "please follow me please justi̇n @justinbieber : x15.323\n",
      "》》》》ｓｅｅ ｍｅ\n",
      "♛♛♛ 'cp949' codec can't encode character '\\u265b' in position 0: illegal multibyte sequence\n",
      "♛♛♛\n",
      "》》》 \n",
      "i love you so much.\n",
      "i beli̇eve that he wi̇ll follow.\n",
      "please follow me please justi̇n @justinbieber : x15.322\n",
      "》》》》ｓｅｅ ｍｅ\n",
      "♛♛♛ 'cp949' codec can't encode character '\\u265b' in position 0: illegal multibyte sequence\n",
      "♛♛♛\n",
      "》》》 \n",
      "i love you so much.\n",
      "i beli̇eve that he wi̇ll follow.\n",
      "please follow me please justi̇n @justinbieber : x15.321\n",
      "》》》》ｓｅｅ ｍｅ\n",
      "♛♛♛ 'cp949' codec can't encode character '\\u265b' in position 0: illegal multibyte sequence\n",
      "♛♛♛\n",
      "》》》 \n",
      "i love you so much.\n",
      "i beli̇eve that he wi̇ll follow.\n",
      "please follow me please justi̇n @justinbieber : x15.320\n",
      "》》》》ｓｅｅ ｍｅ\n",
      "♛♛♛ 'cp949' codec can't encode character '\\u265b' in position 0: illegal multibyte sequence\n",
      "♛♛♛\n",
      "》》》 \n",
      "i love you so much.\n",
      "i beli̇eve that he wi̇ll follow.\n",
      "please follow me please justi̇n @justinbieber : x15.319\n",
      "》》》》ｓｅｅ ｍｅ\n",
      "♛♛♛ 'cp949' codec can't encode character '\\u265b' in position 0: illegal multibyte sequence\n",
      "♛♛♛\n",
      "》》》 \n",
      "i love you so much.\n",
      "i beli̇eve that he wi̇ll follow.\n",
      "please follow me please justi̇n @justinbieber : x15.318\n",
      "》》》》ｓｅｅ ｍｅ\n",
      "♛♛♛ 'cp949' codec can't encode character '\\u265b' in position 0: illegal multibyte sequence\n",
      "♛♛♛\n",
      "》》》 \n",
      "i love you so much.\n",
      "i beli̇eve that he wi̇ll follow.\n",
      "please follow me please justi̇n @justinbieber : x15.317\n",
      "》》》》ｓｅｅ ｍｅ\n",
      "♛♛♛ 'cp949' codec can't encode character '\\u265b' in position 0: illegal multibyte sequence\n",
      "♛♛♛\n",
      "》》》 \n",
      "i love you so much.\n",
      "i beli̇eve that he wi̇ll follow.\n",
      "please follow me please justi̇n @justinbieber : x15.316\n",
      "》》》》ｓｅｅ ｍｅ\n",
      "♛♛♛ 'cp949' codec can't encode character '\\u265b' in position 0: illegal multibyte sequence\n",
      "poorly once again : bed and netflix today 🍵☕️ 'cp949' codec can't encode character '\\U0001f375' in position 42: illegal multibyte sequence\n"
     ]
    },
    {
     "name": "stderr",
     "output_type": "stream",
     "text": [
      " 45%|████▌     | 2264/5000 [00:01<00:02, 1177.67it/s]"
     ]
    },
    {
     "name": "stdout",
     "output_type": "stream",
     "text": [
      "week 2 is over : but can't wait for week 3 😊 'cp949' codec can't encode character '\\U0001f60a' in position 43: illegal multibyte sequence\n",
      "i know right : huhu sad lyf 😔😔 https://t.co/rmdmcuyynh 'cp949' codec can't encode character '\\U0001f614' in position 28: illegal multibyte sequence\n",
      "ruby rose ko tou maine pora stalk karlia omg beauty khatam bandi pe 😭 why tf she's so pyaari but not me :( 'cp949' codec can't encode character '\\U0001f62d' in position 68: illegal multibyte sequence\n",
      "sel beth come to serbia serbian selenators and motavators are so sad : 💋❤💋 http://t.co/mqrhl6guv0 'cp949' codec can't encode character '\\U0001f48b' in position 71: illegal multibyte sequence\n"
     ]
    },
    {
     "name": "stderr",
     "output_type": "stream",
     "text": [
      " 50%|█████     | 2511/5000 [00:02<00:02, 1204.07it/s]"
     ]
    },
    {
     "name": "stdout",
     "output_type": "stream",
     "text": [
      "get well soon pretty😘  pano mo nalamannn bebeee : thankyou  http://t.co/cvot0dgray 'cp949' codec can't encode character '\\U0001f618' in position 20: illegal multibyte sequence\n",
      "@rafaelallmark i've been supporting you since the start and am always ignored : please let today be the day you finally follow me������♥♥♥♥ 'cp949' codec can't encode character '\\ufffd' in position 129: illegal multibyte sequence\n",
      "@dtoxdliving it's wet and miserable here :((💦☔️ missing my morning yoga &amp drink in the sunshine 🌞💃🏽 love to you all xx 'cp949' codec can't encode character '\\U0001f4a6' in position 44: illegal multibyte sequence\n",
      "@rafaelallmark i've been supporting you since the start and am always ignored : please let today be the day you finally follow me������♥♥♥ 'cp949' codec can't encode character '\\ufffd' in position 129: illegal multibyte sequence\n",
      "@rafaelallmark i've been supporting you since the start and am always ignored : please let today be the day you finally follow me������♥♥ 'cp949' codec can't encode character '\\ufffd' in position 129: illegal multibyte sequence\n",
      "@rafaelallmark i've been supporting you since the start and am always ignored : please let today be the day you finally follow me������♥ 'cp949' codec can't encode character '\\ufffd' in position 129: illegal multibyte sequence\n",
      "@rafaelallmark i've been supporting you since the start and am always ignored : please let today be the day you finally follow me����� ♥ 'cp949' codec can't encode character '\\ufffd' in position 129: illegal multibyte sequence\n",
      "@rafaelallmark i've been supporting you since the start and am always ignored : please let today be the day you finally follow me������ 'cp949' codec can't encode character '\\ufffd' in position 129: illegal multibyte sequence\n",
      "@feleciaag20 oh gosh i love it so much ;__ they have those fried noodles? love💜💜 but they stopped selling them here :( 'cp949' codec can't encode character '\\U0001f49c' in position 78: illegal multibyte sequence\n",
      "@karinatuano shiiiit kamiss beh 😭 thank you bby : i miss you : love you mwa. 'cp949' codec can't encode character '\\U0001f62d' in position 32: illegal multibyte sequence\n",
      "@_ajaaaa where r u gonna be sarajevo?? : i live like 2 hours from there 😩😩😩😩😭 'cp949' codec can't encode character '\\U0001f629' in position 72: illegal multibyte sequence\n"
     ]
    },
    {
     "name": "stderr",
     "output_type": "stream",
     "text": [
      " 55%|█████▌    | 2757/5000 [00:02<00:01, 1183.63it/s]"
     ]
    },
    {
     "name": "stdout",
     "output_type": "stream",
     "text": [
      "i hate not getting enough sleep : my baby wakes me up 300 times a night and i always feel like falling asleep at work 😔 'cp949' codec can't encode character '\\U0001f614' in position 118: illegal multibyte sequence\n",
      "ladygaga i bet $20 to a friend that you will follow ✧ chelny ｡ before the end of the month don't disappoint me :( 'cp949' codec can't encode character '\\u2727' in position 52: illegal multibyte sequence\n",
      "justinbieber i bet $20 to a friend that you will follow ✧ chelny ｡ before the end of the month don't disappoint me :( 'cp949' codec can't encode character '\\u2727' in position 56: illegal multibyte sequence\n",
      "एक बार फिर सेँ धोखा....... &gt;: &gt;_&lt  feeling silly at chandauli majhwar railway station http://t.co/iwaedmuoop 'cp949' codec can't encode character '\\u090f' in position 0: illegal multibyte sequence\n",
      "@princess_sair i'm not being mean : your my sazballs ❤ 'cp949' codec can't encode character '\\u2764' in position 53: illegal multibyte sequence\n"
     ]
    },
    {
     "name": "stderr",
     "output_type": "stream",
     "text": [
      " 60%|█████▉    | 2992/5000 [00:02<00:01, 1148.54it/s]"
     ]
    },
    {
     "name": "stdout",
     "output_type": "stream",
     "text": [
      "omg happy late birthday @mariahjoyyy i'm so sorry i missed it : love you though hope you had a lot of fun 😘🎉 'cp949' codec can't encode character '\\U0001f618' in position 106: illegal multibyte sequence\n",
      "retweet this pleaaase :(( 👆🏻👆🏻 'cp949' codec can't encode character '\\U0001f446' in position 26: illegal multibyte sequence\n",
      "@suzy4everfan 😪😪 so tired sis we wait yu nas hz :( 'cp949' codec can't encode character '\\U0001f62a' in position 14: illegal multibyte sequence\n",
      "i forgot to bring some of my #kitkat green teas and sakura flavour chokkie : 😩😭🍵🌸 'cp949' codec can't encode character '\\U0001f629' in position 77: illegal multibyte sequence\n",
      "i want 🍜🍜🍜🍜 :((( 'cp949' codec can't encode character '\\U0001f35c' in position 7: illegal multibyte sequence\n",
      "only a fuck day 󾆖\n",
      ":( 'cp949' codec can't encode character '\\U000fe196' in position 16: illegal multibyte sequence\n"
     ]
    },
    {
     "name": "stderr",
     "output_type": "stream",
     "text": [
      " 67%|██████▋   | 3352/5000 [00:02<00:01, 1181.97it/s]"
     ]
    },
    {
     "name": "stdout",
     "output_type": "stream",
     "text": [
      "@ncilla so thát's what i've been doing wrong :(\n",
      "a powerpoint presentation with expectations before during and after diner is no-no either? 'cp949' codec can't encode character '\\xe1' in position 13: illegal multibyte sequence\n",
      "@yeymp3 : i hope you have an easy day at work today ❤️ 'cp949' codec can't encode character '\\u2764' in position 52: illegal multibyte sequence\n",
      "@cooldemigods omg same : fabina was bae it was my otp before ik what otp meant😂😂 'cp949' codec can't encode character '\\U0001f602' in position 78: illegal multibyte sequence\n",
      "so no free #über ice cream for the big gay al today i didn't really want any anyway :  the big gay https://t.co/1cthoog9a1 'cp949' codec can't encode character '\\xfc' in position 12: illegal multibyte sequence\n",
      "pure talent! : \"@oscarmbo always will be a fan of deepxcape brothers are so talented!! ����\" 'cp949' codec can't encode character '\\ufffd' in position 87: illegal multibyte sequence\n",
      "@veilbride6 agreed : ❤❤❤ 'cp949' codec can't encode character '\\u2764' in position 21: illegal multibyte sequence\n",
      "@seunrgriseyo good dong by?:(\n",
      "sini dipoppo😘😘😘😘 'cp949' codec can't encode character '\\U0001f618' in position 43: illegal multibyte sequence\n"
     ]
    },
    {
     "name": "stderr",
     "output_type": "stream",
     "text": [
      " 72%|███████▏  | 3591/5000 [00:03<00:01, 1162.97it/s]"
     ]
    },
    {
     "name": "stdout",
     "output_type": "stream",
     "text": [
      "i see ur bio @xannindy 😆 u don't break my heart actually :( 'cp949' codec can't encode character '\\U0001f606' in position 23: illegal multibyte sequence\n",
      "@niclasbenjamin don't ignore me please : it was my birthday on the 12th of july could you follow me now as a present 😊😊😊❤️ 'cp949' codec can't encode character '\\U0001f60a' in position 117: illegal multibyte sequence\n",
      "@jacinthtran twitter said :(( but u followed me 💕💕💕💕 'cp949' codec can't encode character '\\U0001f495' in position 48: illegal multibyte sequence\n",
      "@puddycats19 shame it's like £3k :( 'cp949' codec can't encode character '\\xa3' in position 29: illegal multibyte sequence\n",
      "@hatecrew_dzul right right? : we will always have good memories i guess 😔 'cp949' codec can't encode character '\\U0001f614' in position 72: illegal multibyte sequence\n",
      "@vengefulmgc i miss youuuu kateee : iloveyouu be strong 😘 'cp949' codec can't encode character '\\U0001f618' in position 56: illegal multibyte sequence\n",
      "i'm telling you : i will in shaa allah \"@waxxa_official @fatumoriginal na by force change phone mana 😒\" 'cp949' codec can't encode character '\\U0001f612' in position 101: illegal multibyte sequence\n",
      "@rikkixreid @rriiccaahh @maeee_123 sorry na :(( next time pramis 😚 'cp949' codec can't encode character '\\U0001f61a' in position 65: illegal multibyte sequence\n",
      "i don't like seeing @sophiaxnicole sad : smile more and stay strong alright 😊💞 'cp949' codec can't encode character '\\U0001f60a' in position 76: illegal multibyte sequence\n",
      "worst sleep ever :- 😢😵😭 'cp949' codec can't encode character '\\U0001f622' in position 20: illegal multibyte sequence\n",
      "mood cumbia :((((😩 'cp949' codec can't encode character '\\U0001f629' in position 17: illegal multibyte sequence\n"
     ]
    },
    {
     "name": "stderr",
     "output_type": "stream",
     "text": [
      " 77%|███████▋  | 3836/5000 [00:03<00:00, 1190.57it/s]"
     ]
    },
    {
     "name": "stdout",
     "output_type": "stream",
     "text": [
      "“@kuskus1 @pamtravel i bet you are wonder what happened :(”\n",
      "just trying to calm down before i start again 🙏🏻🎂 'cp949' codec can't encode character '\\U0001f64f' in position 107: illegal multibyte sequence\n",
      "long distance : why 💔 'cp949' codec can't encode character '\\U0001f494' in position 20: illegal multibyte sequence\n",
      "stomachache bc of a slice of cake _:(´ཀ` ∠):_ … 'cp949' codec can't encode character '\\u0f40' in position 38: illegal multibyte sequence\n",
      "“@robinhoodapp we love spotting robinhood out in the wild thanks for all the support out there robinhoodies 🚙 http://t.co/bk6z2whxmk”:( 'cp949' codec can't encode character '\\U0001f699' in position 108: illegal multibyte sequence\n",
      "“@inyan99 oh poor baby :  https://t.co/jqwjftnppg 😭 'cp949' codec can't encode character '\\U0001f62d' in position 50: illegal multibyte sequence\n",
      "@charlotte_louth aw i know i'm sorry : how are you and your hashbrowns?😂😊💘💘 'cp949' codec can't encode character '\\U0001f602' in position 71: illegal multibyte sequence\n",
      "@mickb1980 @calderclarion @ev2cycling looks good pal glad i paid £111 for my jersey and gilet  ( 'cp949' codec can't encode character '\\xa3' in position 65: illegal multibyte sequence\n",
      "in the getaway car after committing some criminal act !! : http://t.co/bmp14zzhlu http://t.co/lip80io2t9 ☼ 'cp949' codec can't encode character '\\u263c' in position 105: illegal multibyte sequence\n",
      "true life :~\n",
      "i cant hide anything from you.. :(\n",
      ".\n",
      ".\n",
      "but when its about love...❤\n",
      ".\n",
      ". *i have to... ^_^.. http://t.co/uvjzare3tp 'cp949' codec can't encode character '\\u2764' in position 82: illegal multibyte sequence\n"
     ]
    },
    {
     "name": "stderr",
     "output_type": "stream",
     "text": [
      " 84%|████████▍ | 4211/5000 [00:03<00:00, 1219.89it/s]"
     ]
    },
    {
     "name": "stdout",
     "output_type": "stream",
     "text": [
      "when you realise that 2/3 of your big summer plans have been and gone : : : next up is paris ✔️ 'cp949' codec can't encode character '\\u2714' in position 93: illegal multibyte sequence\n",
      "@lizzytrevaskis @1057darwin omg swedish hair metal legends häirførce in the studio while i am on leave?? noooo : #givecodpieceachance 'cp949' codec can't encode character '\\xe4' in position 60: illegal multibyte sequence\n",
      "@jackjackjohnson @jackgilinsky number one in america! 😭🇺🇸\n",
      "i wish i could buy it but no money : http://t.co/7xynmimtpr 'cp949' codec can't encode character '\\U0001f62d' in position 54: illegal multibyte sequence\n",
      "😂 what a night :((((( so devo xxx https://t.co/9ixtnybxlb 'cp949' codec can't encode character '\\U0001f602' in position 0: illegal multibyte sequence\n",
      "@jdrapld @excluzzive i was talking to exclusive : u know i carry u want me to play 😘 'cp949' codec can't encode character '\\U0001f618' in position 83: illegal multibyte sequence\n",
      "so sad every time apink has an event . don't understand korean : 😭😭 'cp949' codec can't encode character '\\U0001f62d' in position 65: illegal multibyte sequence\n",
      "all is fair in love and war kapan update :(\n",
      "\n",
      "oh ya udah dihapus hilang dari muka bumi.\n",
      "\n",
      "i want to read it once more someone give me link 😢 'cp949' codec can't encode character '\\U0001f622' in position 141: illegal multibyte sequence\n"
     ]
    },
    {
     "name": "stderr",
     "output_type": "stream",
     "text": [
      " 89%|████████▉ | 4457/5000 [00:03<00:00, 1208.00it/s]"
     ]
    },
    {
     "name": "stdout",
     "output_type": "stream",
     "text": [
      "missed 11:11 : btw my wish was for @carterreynolds to follow me #loveyoutilltheendcarter ☺ 'cp949' codec can't encode character '\\u263a' in position 89: illegal multibyte sequence\n",
      "first two days of katies summer and she's been back and forth to the doctor with suspect meningitis and viral tonsillitis : poorly girl 😷 'cp949' codec can't encode character '\\U0001f637' in position 136: illegal multibyte sequence\n",
      "@jaymcguiness happy birthday again and please come back to singapore :- 😿💓💓💕😚😚😚😚😚❤️❤️❤️❤️❤️ http://t.co/5liiqjqpbt 'cp949' codec can't encode character '\\U0001f63f' in position 72: illegal multibyte sequence\n",
      "this boy was snapchattimg me and i was happy bc friends then he ruined it when he said \"you wanna have fun😏😏 :(( 'cp949' codec can't encode character '\\U0001f60f' in position 106: illegal multibyte sequence\n",
      "@jjjaneell hay idk baby : 😭😭😭😭😭😭😭😭😭😭 'cp949' codec can't encode character '\\U0001f62d' in position 26: illegal multibyte sequence\n",
      "@waniiamira ehem 😏 haha ala yeke : its okay then have fun in kk jumpa next time in ✈️ or 🇺 maybe😋 'cp949' codec can't encode character '\\U0001f60f' in position 17: illegal multibyte sequence\n",
      "@graceaddley24 miss you too :  and haha the x's 😂 i still remember how u hate them xxxxx 'cp949' codec can't encode character '\\U0001f602' in position 48: illegal multibyte sequence\n"
     ]
    },
    {
     "name": "stderr",
     "output_type": "stream",
     "text": [
      " 97%|█████████▋| 4832/5000 [00:04<00:00, 1173.83it/s]"
     ]
    },
    {
     "name": "stdout",
     "output_type": "stream",
     "text": [
      "@junior_jones it was good as always 😀flying back today though :( 'cp949' codec can't encode character '\\U0001f600' in position 36: illegal multibyte sequence\n",
      "@candysalvatore you're right i'm very tired : good night my ally i love you ❤️ 'cp949' codec can't encode character '\\u2764' in position 76: illegal multibyte sequence\n",
      "😂😂😂thank you san😀\"@__zanele i wanna change my avi but usanele :(\" 'cp949' codec can't encode character '\\U0001f602' in position 0: illegal multibyte sequence\n",
      "when fave unfollows :(😩 @itisfurny http://t.co/hovqloktig 'cp949' codec can't encode character '\\U0001f629' in position 22: illegal multibyte sequence\n",
      "happy birthday bes @mahhriel_114 enjoy your day beb i love you miss you sooooo muchie : see you soon sana 💞🎈🎂🎉 http://t.co/c5oobr6ov9 'cp949' codec can't encode character '\\U0001f49e' in position 106: illegal multibyte sequence\n",
      "@msmeghanmakeup hope you're having fun at vidcon! rlly bummed i couldnt go :( love you sunshine 💛💛💛💛 'cp949' codec can't encode character '\\U0001f49b' in position 96: illegal multibyte sequence\n",
      "last night was so good : 😺💒💎🎉 'cp949' codec can't encode character '\\U0001f63a' in position 25: illegal multibyte sequence\n",
      "@deviousliz awh :-  but you have to stay 💪 'cp949' codec can't encode character '\\U0001f4aa' in position 41: illegal multibyte sequence\n",
      "stu deacti̇vated :( 'cp949' codec can't encode character '\\u0307' in position 10: illegal multibyte sequence\n"
     ]
    },
    {
     "name": "stderr",
     "output_type": "stream",
     "text": [
      "100%|██████████| 5000/5000 [00:04<00:00, 1170.04it/s]"
     ]
    },
    {
     "name": "stdout",
     "output_type": "stream",
     "text": [
      "@courtneyr_green awwwww my baby : 💕 'cp949' codec can't encode character '\\U0001f495' in position 34: illegal multibyte sequence\n",
      "stop being sour : it doesn't suit you 😂 https://t.co/nj0ziq14is 'cp949' codec can't encode character '\\U0001f602' in position 38: illegal multibyte sequence\n",
      "@lottystorer @charliee_catlin 😂😩 what a mess :( 'cp949' codec can't encode character '\\U0001f602' in position 30: illegal multibyte sequence\n",
      "@dongvvoo1122 😀 r u sure u want that b r u h we barely survive w them in tank tops :(( 'cp949' codec can't encode character '\\U0001f600' in position 14: illegal multibyte sequence\n"
     ]
    },
    {
     "name": "stderr",
     "output_type": "stream",
     "text": [
      "\n"
     ]
    }
   ],
   "source": [
    "txt_files_dir = curdir+\"\\\\tmp2\\\\text_split\"\n",
    "!mkdir {txt_files_dir}\n",
    "i=0\n",
    "for row in tqdm(neg_df_text.to_list()):\n",
    "    file_name = os.path.join(txt_files_dir,str(i)+'.txt')\n",
    "    try:\n",
    "        f=open(file_name,'w')\n",
    "        f.write(row)\n",
    "        f.close()\n",
    "    except Exception as e:\n",
    "        print(row, e)\n",
    "    i+=1"
   ]
  },
  {
   "cell_type": "code",
   "execution_count": null,
   "metadata": {},
   "outputs": [],
   "source": []
  },
  {
   "cell_type": "code",
   "execution_count": null,
   "metadata": {},
   "outputs": [],
   "source": []
  },
  {
   "cell_type": "code",
   "execution_count": null,
   "metadata": {},
   "outputs": [],
   "source": []
  },
  {
   "cell_type": "code",
   "execution_count": null,
   "metadata": {},
   "outputs": [],
   "source": []
  },
  {
   "cell_type": "code",
   "execution_count": null,
   "metadata": {},
   "outputs": [],
   "source": []
  },
  {
   "cell_type": "code",
   "execution_count": null,
   "metadata": {},
   "outputs": [],
   "source": []
  },
  {
   "cell_type": "code",
   "execution_count": null,
   "metadata": {},
   "outputs": [],
   "source": []
  },
  {
   "cell_type": "code",
   "execution_count": null,
   "metadata": {},
   "outputs": [],
   "source": []
  },
  {
   "cell_type": "code",
   "execution_count": null,
   "metadata": {},
   "outputs": [],
   "source": []
  },
  {
   "cell_type": "code",
   "execution_count": null,
   "metadata": {},
   "outputs": [],
   "source": []
  },
  {
   "cell_type": "code",
   "execution_count": null,
   "metadata": {},
   "outputs": [],
   "source": [
    "parser = argparse.ArgumentParser()\n",
    "\n",
    "parser.add_argument(\"--corpus_file\",type=str)\n",
    "parser.add_arguemnt(\"--vocab_size\",type=int,default=32000)\n",
    "parser.add_argument(\"--lmit_alphabet\",type=int,default=6000)\n",
    "\n",
    "args = parser.parse_args()\n",
    "\n",
    "tokenizer_custom = sp # tokenizer = BertWordPieceTokenizer()\n",
    "\n",
    "#tokenizer.train()\n",
    "#tokenizer.save()\n",
    "\n"
   ]
  },
  {
   "cell_type": "code",
   "execution_count": null,
   "metadata": {},
   "outputs": [],
   "source": []
  },
  {
   "cell_type": "code",
   "execution_count": null,
   "metadata": {},
   "outputs": [],
   "source": []
  },
  {
   "cell_type": "code",
   "execution_count": null,
   "metadata": {},
   "outputs": [],
   "source": []
  },
  {
   "cell_type": "code",
   "execution_count": null,
   "metadata": {},
   "outputs": [],
   "source": []
  },
  {
   "cell_type": "code",
   "execution_count": null,
   "metadata": {},
   "outputs": [],
   "source": []
  },
  {
   "cell_type": "code",
   "execution_count": null,
   "metadata": {},
   "outputs": [],
   "source": []
  },
  {
   "cell_type": "code",
   "execution_count": null,
   "metadata": {},
   "outputs": [],
   "source": []
  },
  {
   "cell_type": "code",
   "execution_count": null,
   "metadata": {},
   "outputs": [],
   "source": []
  },
  {
   "cell_type": "code",
   "execution_count": null,
   "metadata": {},
   "outputs": [],
   "source": []
  },
  {
   "cell_type": "code",
   "execution_count": null,
   "metadata": {},
   "outputs": [],
   "source": []
  },
  {
   "cell_type": "code",
   "execution_count": null,
   "metadata": {},
   "outputs": [],
   "source": []
  },
  {
   "cell_type": "code",
   "execution_count": null,
   "metadata": {},
   "outputs": [],
   "source": []
  },
  {
   "cell_type": "code",
   "execution_count": null,
   "metadata": {},
   "outputs": [],
   "source": []
  },
  {
   "cell_type": "code",
   "execution_count": null,
   "metadata": {},
   "outputs": [],
   "source": []
  },
  {
   "cell_type": "code",
   "execution_count": null,
   "metadata": {},
   "outputs": [],
   "source": []
  },
  {
   "cell_type": "code",
   "execution_count": null,
   "metadata": {},
   "outputs": [],
   "source": []
  },
  {
   "cell_type": "code",
   "execution_count": null,
   "metadata": {},
   "outputs": [],
   "source": []
  },
  {
   "cell_type": "code",
   "execution_count": null,
   "metadata": {},
   "outputs": [],
   "source": []
  },
  {
   "cell_type": "code",
   "execution_count": null,
   "metadata": {},
   "outputs": [],
   "source": []
  },
  {
   "cell_type": "code",
   "execution_count": null,
   "metadata": {},
   "outputs": [],
   "source": []
  },
  {
   "cell_type": "code",
   "execution_count": null,
   "metadata": {},
   "outputs": [],
   "source": []
  },
  {
   "cell_type": "code",
   "execution_count": null,
   "metadata": {},
   "outputs": [],
   "source": []
  }
 ],
 "metadata": {
  "kernelspec": {
   "display_name": "Python 3",
   "language": "python",
   "name": "python3"
  },
  "language_info": {
   "codemirror_mode": {
    "name": "ipython",
    "version": 3
   },
   "file_extension": ".py",
   "mimetype": "text/x-python",
   "name": "python",
   "nbconvert_exporter": "python",
   "pygments_lexer": "ipython3",
   "version": "3.8.5"
  }
 },
 "nbformat": 4,
 "nbformat_minor": 5
}
